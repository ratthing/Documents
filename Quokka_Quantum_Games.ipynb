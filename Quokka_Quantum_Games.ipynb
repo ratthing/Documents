{
  "nbformat": 4,
  "nbformat_minor": 0,
  "metadata": {
    "colab": {
      "provenance": [],
      "include_colab_link": true
    },
    "kernelspec": {
      "name": "python3",
      "display_name": "Python 3"
    },
    "language_info": {
      "name": "python"
    },
    "widgets": {
      "application/vnd.jupyter.widget-state+json": {
        "b6fa1804082c451cbfbe397af2126ae5": {
          "model_module": "@jupyter-widgets/controls",
          "model_name": "ButtonModel",
          "model_module_version": "1.5.0",
          "state": {
            "_dom_classes": [],
            "_model_module": "@jupyter-widgets/controls",
            "_model_module_version": "1.5.0",
            "_model_name": "ButtonModel",
            "_view_count": null,
            "_view_module": "@jupyter-widgets/controls",
            "_view_module_version": "1.5.0",
            "_view_name": "ButtonView",
            "button_style": "",
            "description": "X",
            "disabled": false,
            "icon": "",
            "layout": "IPY_MODEL_2874a632bc71414caf73d367da437b88",
            "style": "IPY_MODEL_50fe85bc83f049fda5b53e4b2dc1a5a7",
            "tooltip": ""
          }
        },
        "2874a632bc71414caf73d367da437b88": {
          "model_module": "@jupyter-widgets/base",
          "model_name": "LayoutModel",
          "model_module_version": "1.2.0",
          "state": {
            "_model_module": "@jupyter-widgets/base",
            "_model_module_version": "1.2.0",
            "_model_name": "LayoutModel",
            "_view_count": null,
            "_view_module": "@jupyter-widgets/base",
            "_view_module_version": "1.2.0",
            "_view_name": "LayoutView",
            "align_content": null,
            "align_items": null,
            "align_self": null,
            "border": null,
            "bottom": null,
            "display": null,
            "flex": null,
            "flex_flow": null,
            "grid_area": null,
            "grid_auto_columns": null,
            "grid_auto_flow": null,
            "grid_auto_rows": null,
            "grid_column": null,
            "grid_gap": null,
            "grid_row": null,
            "grid_template_areas": null,
            "grid_template_columns": null,
            "grid_template_rows": null,
            "height": "30px",
            "justify_content": null,
            "justify_items": null,
            "left": null,
            "margin": null,
            "max_height": null,
            "max_width": null,
            "min_height": null,
            "min_width": null,
            "object_fit": null,
            "object_position": null,
            "order": null,
            "overflow": null,
            "overflow_x": null,
            "overflow_y": null,
            "padding": null,
            "right": null,
            "top": null,
            "visibility": null,
            "width": "86px"
          }
        },
        "50fe85bc83f049fda5b53e4b2dc1a5a7": {
          "model_module": "@jupyter-widgets/controls",
          "model_name": "ButtonStyleModel",
          "model_module_version": "1.5.0",
          "state": {
            "_model_module": "@jupyter-widgets/controls",
            "_model_module_version": "1.5.0",
            "_model_name": "ButtonStyleModel",
            "_view_count": null,
            "_view_module": "@jupyter-widgets/base",
            "_view_module_version": "1.2.0",
            "_view_name": "StyleView",
            "button_color": null,
            "font_weight": ""
          }
        },
        "4f62f5883de148efa47007b17cb84255": {
          "model_module": "@jupyter-widgets/controls",
          "model_name": "ButtonModel",
          "model_module_version": "1.5.0",
          "state": {
            "_dom_classes": [],
            "_model_module": "@jupyter-widgets/controls",
            "_model_module_version": "1.5.0",
            "_model_name": "ButtonModel",
            "_view_count": null,
            "_view_module": "@jupyter-widgets/controls",
            "_view_module_version": "1.5.0",
            "_view_name": "ButtonView",
            "button_style": "",
            "description": "O",
            "disabled": false,
            "icon": "",
            "layout": "IPY_MODEL_87036438a43247c2ab8c19814aba1889",
            "style": "IPY_MODEL_c26b6c7d64b14191bc323d82b74e0957",
            "tooltip": ""
          }
        },
        "87036438a43247c2ab8c19814aba1889": {
          "model_module": "@jupyter-widgets/base",
          "model_name": "LayoutModel",
          "model_module_version": "1.2.0",
          "state": {
            "_model_module": "@jupyter-widgets/base",
            "_model_module_version": "1.2.0",
            "_model_name": "LayoutModel",
            "_view_count": null,
            "_view_module": "@jupyter-widgets/base",
            "_view_module_version": "1.2.0",
            "_view_name": "LayoutView",
            "align_content": null,
            "align_items": null,
            "align_self": null,
            "border": null,
            "bottom": null,
            "display": null,
            "flex": null,
            "flex_flow": null,
            "grid_area": null,
            "grid_auto_columns": null,
            "grid_auto_flow": null,
            "grid_auto_rows": null,
            "grid_column": null,
            "grid_gap": null,
            "grid_row": null,
            "grid_template_areas": null,
            "grid_template_columns": null,
            "grid_template_rows": null,
            "height": "30px",
            "justify_content": null,
            "justify_items": null,
            "left": null,
            "margin": null,
            "max_height": null,
            "max_width": null,
            "min_height": null,
            "min_width": null,
            "object_fit": null,
            "object_position": null,
            "order": null,
            "overflow": null,
            "overflow_x": null,
            "overflow_y": null,
            "padding": null,
            "right": null,
            "top": null,
            "visibility": null,
            "width": "86px"
          }
        },
        "c26b6c7d64b14191bc323d82b74e0957": {
          "model_module": "@jupyter-widgets/controls",
          "model_name": "ButtonStyleModel",
          "model_module_version": "1.5.0",
          "state": {
            "_model_module": "@jupyter-widgets/controls",
            "_model_module_version": "1.5.0",
            "_model_name": "ButtonStyleModel",
            "_view_count": null,
            "_view_module": "@jupyter-widgets/base",
            "_view_module_version": "1.2.0",
            "_view_name": "StyleView",
            "button_color": null,
            "font_weight": ""
          }
        },
        "e1e252121873441a9511c49815458dbc": {
          "model_module": "@jupyter-widgets/controls",
          "model_name": "ButtonModel",
          "model_module_version": "1.5.0",
          "state": {
            "_dom_classes": [],
            "_model_module": "@jupyter-widgets/controls",
            "_model_module_version": "1.5.0",
            "_model_name": "ButtonModel",
            "_view_count": null,
            "_view_module": "@jupyter-widgets/controls",
            "_view_module_version": "1.5.0",
            "_view_name": "ButtonView",
            "button_style": "",
            "description": "0",
            "disabled": false,
            "icon": "",
            "layout": "IPY_MODEL_782666596c234a3d9cea3090a29ac64f",
            "style": "IPY_MODEL_3b42a6a83d73448da3fcb9255992fdb7",
            "tooltip": ""
          }
        },
        "782666596c234a3d9cea3090a29ac64f": {
          "model_module": "@jupyter-widgets/base",
          "model_name": "LayoutModel",
          "model_module_version": "1.2.0",
          "state": {
            "_model_module": "@jupyter-widgets/base",
            "_model_module_version": "1.2.0",
            "_model_name": "LayoutModel",
            "_view_count": null,
            "_view_module": "@jupyter-widgets/base",
            "_view_module_version": "1.2.0",
            "_view_name": "LayoutView",
            "align_content": null,
            "align_items": null,
            "align_self": null,
            "border": null,
            "bottom": null,
            "display": null,
            "flex": null,
            "flex_flow": null,
            "grid_area": null,
            "grid_auto_columns": null,
            "grid_auto_flow": null,
            "grid_auto_rows": null,
            "grid_column": null,
            "grid_gap": null,
            "grid_row": null,
            "grid_template_areas": null,
            "grid_template_columns": null,
            "grid_template_rows": null,
            "height": null,
            "justify_content": null,
            "justify_items": null,
            "left": null,
            "margin": null,
            "max_height": null,
            "max_width": null,
            "min_height": null,
            "min_width": null,
            "object_fit": null,
            "object_position": null,
            "order": null,
            "overflow": null,
            "overflow_x": null,
            "overflow_y": null,
            "padding": null,
            "right": null,
            "top": null,
            "visibility": null,
            "width": null
          }
        },
        "3b42a6a83d73448da3fcb9255992fdb7": {
          "model_module": "@jupyter-widgets/controls",
          "model_name": "ButtonStyleModel",
          "model_module_version": "1.5.0",
          "state": {
            "_model_module": "@jupyter-widgets/controls",
            "_model_module_version": "1.5.0",
            "_model_name": "ButtonStyleModel",
            "_view_count": null,
            "_view_module": "@jupyter-widgets/base",
            "_view_module_version": "1.2.0",
            "_view_name": "StyleView",
            "button_color": null,
            "font_weight": ""
          }
        },
        "500cb23ac93d4b71ba1f25f24effa95c": {
          "model_module": "@jupyter-widgets/controls",
          "model_name": "ButtonModel",
          "model_module_version": "1.5.0",
          "state": {
            "_dom_classes": [],
            "_model_module": "@jupyter-widgets/controls",
            "_model_module_version": "1.5.0",
            "_model_name": "ButtonModel",
            "_view_count": null,
            "_view_module": "@jupyter-widgets/controls",
            "_view_module_version": "1.5.0",
            "_view_name": "ButtonView",
            "button_style": "",
            "description": "1",
            "disabled": false,
            "icon": "",
            "layout": "IPY_MODEL_cbdc4dbfda3f4558b5aa3bf7752d2d42",
            "style": "IPY_MODEL_de9ff71091244dcd8ed71d31ee07775d",
            "tooltip": ""
          }
        },
        "cbdc4dbfda3f4558b5aa3bf7752d2d42": {
          "model_module": "@jupyter-widgets/base",
          "model_name": "LayoutModel",
          "model_module_version": "1.2.0",
          "state": {
            "_model_module": "@jupyter-widgets/base",
            "_model_module_version": "1.2.0",
            "_model_name": "LayoutModel",
            "_view_count": null,
            "_view_module": "@jupyter-widgets/base",
            "_view_module_version": "1.2.0",
            "_view_name": "LayoutView",
            "align_content": null,
            "align_items": null,
            "align_self": null,
            "border": null,
            "bottom": null,
            "display": null,
            "flex": null,
            "flex_flow": null,
            "grid_area": null,
            "grid_auto_columns": null,
            "grid_auto_flow": null,
            "grid_auto_rows": null,
            "grid_column": null,
            "grid_gap": null,
            "grid_row": null,
            "grid_template_areas": null,
            "grid_template_columns": null,
            "grid_template_rows": null,
            "height": null,
            "justify_content": null,
            "justify_items": null,
            "left": null,
            "margin": null,
            "max_height": null,
            "max_width": null,
            "min_height": null,
            "min_width": null,
            "object_fit": null,
            "object_position": null,
            "order": null,
            "overflow": null,
            "overflow_x": null,
            "overflow_y": null,
            "padding": null,
            "right": null,
            "top": null,
            "visibility": null,
            "width": null
          }
        },
        "de9ff71091244dcd8ed71d31ee07775d": {
          "model_module": "@jupyter-widgets/controls",
          "model_name": "ButtonStyleModel",
          "model_module_version": "1.5.0",
          "state": {
            "_model_module": "@jupyter-widgets/controls",
            "_model_module_version": "1.5.0",
            "_model_name": "ButtonStyleModel",
            "_view_count": null,
            "_view_module": "@jupyter-widgets/base",
            "_view_module_version": "1.2.0",
            "_view_name": "StyleView",
            "button_color": null,
            "font_weight": ""
          }
        },
        "e5e1a3b99c04427a8158f08662a512f0": {
          "model_module": "@jupyter-widgets/controls",
          "model_name": "ButtonModel",
          "model_module_version": "1.5.0",
          "state": {
            "_dom_classes": [],
            "_model_module": "@jupyter-widgets/controls",
            "_model_module_version": "1.5.0",
            "_model_name": "ButtonModel",
            "_view_count": null,
            "_view_module": "@jupyter-widgets/controls",
            "_view_module_version": "1.5.0",
            "_view_name": "ButtonView",
            "button_style": "",
            "description": "2",
            "disabled": false,
            "icon": "",
            "layout": "IPY_MODEL_1eda184e6ce34cd582f5b490d488143e",
            "style": "IPY_MODEL_9f03c23c90d24c3395e9b06e7682b67b",
            "tooltip": ""
          }
        },
        "1eda184e6ce34cd582f5b490d488143e": {
          "model_module": "@jupyter-widgets/base",
          "model_name": "LayoutModel",
          "model_module_version": "1.2.0",
          "state": {
            "_model_module": "@jupyter-widgets/base",
            "_model_module_version": "1.2.0",
            "_model_name": "LayoutModel",
            "_view_count": null,
            "_view_module": "@jupyter-widgets/base",
            "_view_module_version": "1.2.0",
            "_view_name": "LayoutView",
            "align_content": null,
            "align_items": null,
            "align_self": null,
            "border": null,
            "bottom": null,
            "display": null,
            "flex": null,
            "flex_flow": null,
            "grid_area": null,
            "grid_auto_columns": null,
            "grid_auto_flow": null,
            "grid_auto_rows": null,
            "grid_column": null,
            "grid_gap": null,
            "grid_row": null,
            "grid_template_areas": null,
            "grid_template_columns": null,
            "grid_template_rows": null,
            "height": null,
            "justify_content": null,
            "justify_items": null,
            "left": null,
            "margin": null,
            "max_height": null,
            "max_width": null,
            "min_height": null,
            "min_width": null,
            "object_fit": null,
            "object_position": null,
            "order": null,
            "overflow": null,
            "overflow_x": null,
            "overflow_y": null,
            "padding": null,
            "right": null,
            "top": null,
            "visibility": null,
            "width": null
          }
        },
        "9f03c23c90d24c3395e9b06e7682b67b": {
          "model_module": "@jupyter-widgets/controls",
          "model_name": "ButtonStyleModel",
          "model_module_version": "1.5.0",
          "state": {
            "_model_module": "@jupyter-widgets/controls",
            "_model_module_version": "1.5.0",
            "_model_name": "ButtonStyleModel",
            "_view_count": null,
            "_view_module": "@jupyter-widgets/base",
            "_view_module_version": "1.2.0",
            "_view_name": "StyleView",
            "button_color": null,
            "font_weight": ""
          }
        },
        "0a3001365b144552ba057ef513359ef4": {
          "model_module": "@jupyter-widgets/controls",
          "model_name": "ButtonModel",
          "model_module_version": "1.5.0",
          "state": {
            "_dom_classes": [],
            "_model_module": "@jupyter-widgets/controls",
            "_model_module_version": "1.5.0",
            "_model_name": "ButtonModel",
            "_view_count": null,
            "_view_module": "@jupyter-widgets/controls",
            "_view_module_version": "1.5.0",
            "_view_name": "ButtonView",
            "button_style": "",
            "description": "3",
            "disabled": false,
            "icon": "",
            "layout": "IPY_MODEL_a3197cd49c604e9fa8f1e9da0ef2c0ca",
            "style": "IPY_MODEL_ce1bebfd47614068b190cddfc2cef9bd",
            "tooltip": ""
          }
        },
        "a3197cd49c604e9fa8f1e9da0ef2c0ca": {
          "model_module": "@jupyter-widgets/base",
          "model_name": "LayoutModel",
          "model_module_version": "1.2.0",
          "state": {
            "_model_module": "@jupyter-widgets/base",
            "_model_module_version": "1.2.0",
            "_model_name": "LayoutModel",
            "_view_count": null,
            "_view_module": "@jupyter-widgets/base",
            "_view_module_version": "1.2.0",
            "_view_name": "LayoutView",
            "align_content": null,
            "align_items": null,
            "align_self": null,
            "border": null,
            "bottom": null,
            "display": null,
            "flex": null,
            "flex_flow": null,
            "grid_area": null,
            "grid_auto_columns": null,
            "grid_auto_flow": null,
            "grid_auto_rows": null,
            "grid_column": null,
            "grid_gap": null,
            "grid_row": null,
            "grid_template_areas": null,
            "grid_template_columns": null,
            "grid_template_rows": null,
            "height": null,
            "justify_content": null,
            "justify_items": null,
            "left": null,
            "margin": null,
            "max_height": null,
            "max_width": null,
            "min_height": null,
            "min_width": null,
            "object_fit": null,
            "object_position": null,
            "order": null,
            "overflow": null,
            "overflow_x": null,
            "overflow_y": null,
            "padding": null,
            "right": null,
            "top": null,
            "visibility": null,
            "width": null
          }
        },
        "ce1bebfd47614068b190cddfc2cef9bd": {
          "model_module": "@jupyter-widgets/controls",
          "model_name": "ButtonStyleModel",
          "model_module_version": "1.5.0",
          "state": {
            "_model_module": "@jupyter-widgets/controls",
            "_model_module_version": "1.5.0",
            "_model_name": "ButtonStyleModel",
            "_view_count": null,
            "_view_module": "@jupyter-widgets/base",
            "_view_module_version": "1.2.0",
            "_view_name": "StyleView",
            "button_color": null,
            "font_weight": ""
          }
        },
        "bf31ace367fe4a6d9cecaad02f2e3c8f": {
          "model_module": "@jupyter-widgets/controls",
          "model_name": "ButtonModel",
          "model_module_version": "1.5.0",
          "state": {
            "_dom_classes": [],
            "_model_module": "@jupyter-widgets/controls",
            "_model_module_version": "1.5.0",
            "_model_name": "ButtonModel",
            "_view_count": null,
            "_view_module": "@jupyter-widgets/controls",
            "_view_module_version": "1.5.0",
            "_view_name": "ButtonView",
            "button_style": "",
            "description": "4",
            "disabled": false,
            "icon": "",
            "layout": "IPY_MODEL_6bce8d1452d94703b2095a21969137d8",
            "style": "IPY_MODEL_0774bc71b6c34084b226208f29f13cb0",
            "tooltip": ""
          }
        },
        "6bce8d1452d94703b2095a21969137d8": {
          "model_module": "@jupyter-widgets/base",
          "model_name": "LayoutModel",
          "model_module_version": "1.2.0",
          "state": {
            "_model_module": "@jupyter-widgets/base",
            "_model_module_version": "1.2.0",
            "_model_name": "LayoutModel",
            "_view_count": null,
            "_view_module": "@jupyter-widgets/base",
            "_view_module_version": "1.2.0",
            "_view_name": "LayoutView",
            "align_content": null,
            "align_items": null,
            "align_self": null,
            "border": null,
            "bottom": null,
            "display": null,
            "flex": null,
            "flex_flow": null,
            "grid_area": null,
            "grid_auto_columns": null,
            "grid_auto_flow": null,
            "grid_auto_rows": null,
            "grid_column": null,
            "grid_gap": null,
            "grid_row": null,
            "grid_template_areas": null,
            "grid_template_columns": null,
            "grid_template_rows": null,
            "height": null,
            "justify_content": null,
            "justify_items": null,
            "left": null,
            "margin": null,
            "max_height": null,
            "max_width": null,
            "min_height": null,
            "min_width": null,
            "object_fit": null,
            "object_position": null,
            "order": null,
            "overflow": null,
            "overflow_x": null,
            "overflow_y": null,
            "padding": null,
            "right": null,
            "top": null,
            "visibility": null,
            "width": null
          }
        },
        "0774bc71b6c34084b226208f29f13cb0": {
          "model_module": "@jupyter-widgets/controls",
          "model_name": "ButtonStyleModel",
          "model_module_version": "1.5.0",
          "state": {
            "_model_module": "@jupyter-widgets/controls",
            "_model_module_version": "1.5.0",
            "_model_name": "ButtonStyleModel",
            "_view_count": null,
            "_view_module": "@jupyter-widgets/base",
            "_view_module_version": "1.2.0",
            "_view_name": "StyleView",
            "button_color": null,
            "font_weight": ""
          }
        },
        "cb28a55a07b84ceba971cfae692b34ee": {
          "model_module": "@jupyter-widgets/controls",
          "model_name": "ButtonModel",
          "model_module_version": "1.5.0",
          "state": {
            "_dom_classes": [],
            "_model_module": "@jupyter-widgets/controls",
            "_model_module_version": "1.5.0",
            "_model_name": "ButtonModel",
            "_view_count": null,
            "_view_module": "@jupyter-widgets/controls",
            "_view_module_version": "1.5.0",
            "_view_name": "ButtonView",
            "button_style": "",
            "description": "5",
            "disabled": false,
            "icon": "",
            "layout": "IPY_MODEL_adf584343a184f318c18a3f92ef89e5f",
            "style": "IPY_MODEL_19d8a14e1be141f3af8dd17667eb1cca",
            "tooltip": ""
          }
        },
        "adf584343a184f318c18a3f92ef89e5f": {
          "model_module": "@jupyter-widgets/base",
          "model_name": "LayoutModel",
          "model_module_version": "1.2.0",
          "state": {
            "_model_module": "@jupyter-widgets/base",
            "_model_module_version": "1.2.0",
            "_model_name": "LayoutModel",
            "_view_count": null,
            "_view_module": "@jupyter-widgets/base",
            "_view_module_version": "1.2.0",
            "_view_name": "LayoutView",
            "align_content": null,
            "align_items": null,
            "align_self": null,
            "border": null,
            "bottom": null,
            "display": null,
            "flex": null,
            "flex_flow": null,
            "grid_area": null,
            "grid_auto_columns": null,
            "grid_auto_flow": null,
            "grid_auto_rows": null,
            "grid_column": null,
            "grid_gap": null,
            "grid_row": null,
            "grid_template_areas": null,
            "grid_template_columns": null,
            "grid_template_rows": null,
            "height": null,
            "justify_content": null,
            "justify_items": null,
            "left": null,
            "margin": null,
            "max_height": null,
            "max_width": null,
            "min_height": null,
            "min_width": null,
            "object_fit": null,
            "object_position": null,
            "order": null,
            "overflow": null,
            "overflow_x": null,
            "overflow_y": null,
            "padding": null,
            "right": null,
            "top": null,
            "visibility": null,
            "width": null
          }
        },
        "19d8a14e1be141f3af8dd17667eb1cca": {
          "model_module": "@jupyter-widgets/controls",
          "model_name": "ButtonStyleModel",
          "model_module_version": "1.5.0",
          "state": {
            "_model_module": "@jupyter-widgets/controls",
            "_model_module_version": "1.5.0",
            "_model_name": "ButtonStyleModel",
            "_view_count": null,
            "_view_module": "@jupyter-widgets/base",
            "_view_module_version": "1.2.0",
            "_view_name": "StyleView",
            "button_color": null,
            "font_weight": ""
          }
        },
        "570257884a6a4f248668ef8003d07309": {
          "model_module": "@jupyter-widgets/controls",
          "model_name": "ButtonModel",
          "model_module_version": "1.5.0",
          "state": {
            "_dom_classes": [],
            "_model_module": "@jupyter-widgets/controls",
            "_model_module_version": "1.5.0",
            "_model_name": "ButtonModel",
            "_view_count": null,
            "_view_module": "@jupyter-widgets/controls",
            "_view_module_version": "1.5.0",
            "_view_name": "ButtonView",
            "button_style": "",
            "description": "6",
            "disabled": false,
            "icon": "",
            "layout": "IPY_MODEL_9aa9fa5f818c48b1a35c975578ab7f5a",
            "style": "IPY_MODEL_876d59366f0549ecbc9871ce978e9289",
            "tooltip": ""
          }
        },
        "9aa9fa5f818c48b1a35c975578ab7f5a": {
          "model_module": "@jupyter-widgets/base",
          "model_name": "LayoutModel",
          "model_module_version": "1.2.0",
          "state": {
            "_model_module": "@jupyter-widgets/base",
            "_model_module_version": "1.2.0",
            "_model_name": "LayoutModel",
            "_view_count": null,
            "_view_module": "@jupyter-widgets/base",
            "_view_module_version": "1.2.0",
            "_view_name": "LayoutView",
            "align_content": null,
            "align_items": null,
            "align_self": null,
            "border": null,
            "bottom": null,
            "display": null,
            "flex": null,
            "flex_flow": null,
            "grid_area": null,
            "grid_auto_columns": null,
            "grid_auto_flow": null,
            "grid_auto_rows": null,
            "grid_column": null,
            "grid_gap": null,
            "grid_row": null,
            "grid_template_areas": null,
            "grid_template_columns": null,
            "grid_template_rows": null,
            "height": null,
            "justify_content": null,
            "justify_items": null,
            "left": null,
            "margin": null,
            "max_height": null,
            "max_width": null,
            "min_height": null,
            "min_width": null,
            "object_fit": null,
            "object_position": null,
            "order": null,
            "overflow": null,
            "overflow_x": null,
            "overflow_y": null,
            "padding": null,
            "right": null,
            "top": null,
            "visibility": null,
            "width": null
          }
        },
        "876d59366f0549ecbc9871ce978e9289": {
          "model_module": "@jupyter-widgets/controls",
          "model_name": "ButtonStyleModel",
          "model_module_version": "1.5.0",
          "state": {
            "_model_module": "@jupyter-widgets/controls",
            "_model_module_version": "1.5.0",
            "_model_name": "ButtonStyleModel",
            "_view_count": null,
            "_view_module": "@jupyter-widgets/base",
            "_view_module_version": "1.2.0",
            "_view_name": "StyleView",
            "button_color": null,
            "font_weight": ""
          }
        },
        "5195e20726a845f39e2550d206f712cb": {
          "model_module": "@jupyter-widgets/controls",
          "model_name": "ButtonModel",
          "model_module_version": "1.5.0",
          "state": {
            "_dom_classes": [],
            "_model_module": "@jupyter-widgets/controls",
            "_model_module_version": "1.5.0",
            "_model_name": "ButtonModel",
            "_view_count": null,
            "_view_module": "@jupyter-widgets/controls",
            "_view_module_version": "1.5.0",
            "_view_name": "ButtonView",
            "button_style": "",
            "description": "7",
            "disabled": false,
            "icon": "",
            "layout": "IPY_MODEL_97c1b37f5a97414880a14c08eed7ce10",
            "style": "IPY_MODEL_1c72c949370849a39f87da8b60e47c90",
            "tooltip": ""
          }
        },
        "97c1b37f5a97414880a14c08eed7ce10": {
          "model_module": "@jupyter-widgets/base",
          "model_name": "LayoutModel",
          "model_module_version": "1.2.0",
          "state": {
            "_model_module": "@jupyter-widgets/base",
            "_model_module_version": "1.2.0",
            "_model_name": "LayoutModel",
            "_view_count": null,
            "_view_module": "@jupyter-widgets/base",
            "_view_module_version": "1.2.0",
            "_view_name": "LayoutView",
            "align_content": null,
            "align_items": null,
            "align_self": null,
            "border": null,
            "bottom": null,
            "display": null,
            "flex": null,
            "flex_flow": null,
            "grid_area": null,
            "grid_auto_columns": null,
            "grid_auto_flow": null,
            "grid_auto_rows": null,
            "grid_column": null,
            "grid_gap": null,
            "grid_row": null,
            "grid_template_areas": null,
            "grid_template_columns": null,
            "grid_template_rows": null,
            "height": null,
            "justify_content": null,
            "justify_items": null,
            "left": null,
            "margin": null,
            "max_height": null,
            "max_width": null,
            "min_height": null,
            "min_width": null,
            "object_fit": null,
            "object_position": null,
            "order": null,
            "overflow": null,
            "overflow_x": null,
            "overflow_y": null,
            "padding": null,
            "right": null,
            "top": null,
            "visibility": null,
            "width": null
          }
        },
        "1c72c949370849a39f87da8b60e47c90": {
          "model_module": "@jupyter-widgets/controls",
          "model_name": "ButtonStyleModel",
          "model_module_version": "1.5.0",
          "state": {
            "_model_module": "@jupyter-widgets/controls",
            "_model_module_version": "1.5.0",
            "_model_name": "ButtonStyleModel",
            "_view_count": null,
            "_view_module": "@jupyter-widgets/base",
            "_view_module_version": "1.2.0",
            "_view_name": "StyleView",
            "button_color": null,
            "font_weight": ""
          }
        },
        "036f229bea734b6abe9cccaddfb0ec54": {
          "model_module": "@jupyter-widgets/controls",
          "model_name": "ButtonModel",
          "model_module_version": "1.5.0",
          "state": {
            "_dom_classes": [],
            "_model_module": "@jupyter-widgets/controls",
            "_model_module_version": "1.5.0",
            "_model_name": "ButtonModel",
            "_view_count": null,
            "_view_module": "@jupyter-widgets/controls",
            "_view_module_version": "1.5.0",
            "_view_name": "ButtonView",
            "button_style": "",
            "description": "8",
            "disabled": false,
            "icon": "",
            "layout": "IPY_MODEL_254e01e3e09c48368d6298529f65d70e",
            "style": "IPY_MODEL_fc2f56973a05416298cf468c353f18b2",
            "tooltip": ""
          }
        },
        "254e01e3e09c48368d6298529f65d70e": {
          "model_module": "@jupyter-widgets/base",
          "model_name": "LayoutModel",
          "model_module_version": "1.2.0",
          "state": {
            "_model_module": "@jupyter-widgets/base",
            "_model_module_version": "1.2.0",
            "_model_name": "LayoutModel",
            "_view_count": null,
            "_view_module": "@jupyter-widgets/base",
            "_view_module_version": "1.2.0",
            "_view_name": "LayoutView",
            "align_content": null,
            "align_items": null,
            "align_self": null,
            "border": null,
            "bottom": null,
            "display": null,
            "flex": null,
            "flex_flow": null,
            "grid_area": null,
            "grid_auto_columns": null,
            "grid_auto_flow": null,
            "grid_auto_rows": null,
            "grid_column": null,
            "grid_gap": null,
            "grid_row": null,
            "grid_template_areas": null,
            "grid_template_columns": null,
            "grid_template_rows": null,
            "height": null,
            "justify_content": null,
            "justify_items": null,
            "left": null,
            "margin": null,
            "max_height": null,
            "max_width": null,
            "min_height": null,
            "min_width": null,
            "object_fit": null,
            "object_position": null,
            "order": null,
            "overflow": null,
            "overflow_x": null,
            "overflow_y": null,
            "padding": null,
            "right": null,
            "top": null,
            "visibility": null,
            "width": null
          }
        },
        "fc2f56973a05416298cf468c353f18b2": {
          "model_module": "@jupyter-widgets/controls",
          "model_name": "ButtonStyleModel",
          "model_module_version": "1.5.0",
          "state": {
            "_model_module": "@jupyter-widgets/controls",
            "_model_module_version": "1.5.0",
            "_model_name": "ButtonStyleModel",
            "_view_count": null,
            "_view_module": "@jupyter-widgets/base",
            "_view_module_version": "1.2.0",
            "_view_name": "StyleView",
            "button_color": null,
            "font_weight": ""
          }
        },
        "675d7a1a793146489baac2b3c5b3cfa1": {
          "model_module": "@jupyter-widgets/controls",
          "model_name": "ButtonModel",
          "model_module_version": "1.5.0",
          "state": {
            "_dom_classes": [],
            "_model_module": "@jupyter-widgets/controls",
            "_model_module_version": "1.5.0",
            "_model_name": "ButtonModel",
            "_view_count": null,
            "_view_module": "@jupyter-widgets/controls",
            "_view_module_version": "1.5.0",
            "_view_name": "ButtonView",
            "button_style": "",
            "description": "Measure",
            "disabled": false,
            "icon": "",
            "layout": "IPY_MODEL_6ee32cae69e94fcead3c8ec1cf351d95",
            "style": "IPY_MODEL_a2f8b66e583b43ef81a484017b4b9914",
            "tooltip": ""
          }
        },
        "6ee32cae69e94fcead3c8ec1cf351d95": {
          "model_module": "@jupyter-widgets/base",
          "model_name": "LayoutModel",
          "model_module_version": "1.2.0",
          "state": {
            "_model_module": "@jupyter-widgets/base",
            "_model_module_version": "1.2.0",
            "_model_name": "LayoutModel",
            "_view_count": null,
            "_view_module": "@jupyter-widgets/base",
            "_view_module_version": "1.2.0",
            "_view_name": "LayoutView",
            "align_content": null,
            "align_items": null,
            "align_self": null,
            "border": null,
            "bottom": null,
            "display": null,
            "flex": null,
            "flex_flow": null,
            "grid_area": null,
            "grid_auto_columns": null,
            "grid_auto_flow": null,
            "grid_auto_rows": null,
            "grid_column": null,
            "grid_gap": null,
            "grid_row": null,
            "grid_template_areas": null,
            "grid_template_columns": null,
            "grid_template_rows": null,
            "height": "30px",
            "justify_content": null,
            "justify_items": null,
            "left": null,
            "margin": null,
            "max_height": null,
            "max_width": null,
            "min_height": null,
            "min_width": null,
            "object_fit": null,
            "object_position": null,
            "order": null,
            "overflow": null,
            "overflow_x": null,
            "overflow_y": null,
            "padding": null,
            "right": null,
            "top": null,
            "visibility": null,
            "width": "86px"
          }
        },
        "a2f8b66e583b43ef81a484017b4b9914": {
          "model_module": "@jupyter-widgets/controls",
          "model_name": "ButtonStyleModel",
          "model_module_version": "1.5.0",
          "state": {
            "_model_module": "@jupyter-widgets/controls",
            "_model_module_version": "1.5.0",
            "_model_name": "ButtonStyleModel",
            "_view_count": null,
            "_view_module": "@jupyter-widgets/base",
            "_view_module_version": "1.2.0",
            "_view_name": "StyleView",
            "button_color": null,
            "font_weight": ""
          }
        },
        "ea263e4de9904360b5016bc7cfc23e43": {
          "model_module": "@jupyter-widgets/controls",
          "model_name": "ButtonModel",
          "model_module_version": "1.5.0",
          "state": {
            "_dom_classes": [],
            "_model_module": "@jupyter-widgets/controls",
            "_model_module_version": "1.5.0",
            "_model_name": "ButtonModel",
            "_view_count": null,
            "_view_module": "@jupyter-widgets/controls",
            "_view_module_version": "1.5.0",
            "_view_name": "ButtonView",
            "button_style": "",
            "description": "X",
            "disabled": false,
            "icon": "",
            "layout": "IPY_MODEL_a2337bd082b4476cb2087936fbf59747",
            "style": "IPY_MODEL_0cb9fdd1dc39405aa875ba8fb4eef45d",
            "tooltip": ""
          }
        },
        "a2337bd082b4476cb2087936fbf59747": {
          "model_module": "@jupyter-widgets/base",
          "model_name": "LayoutModel",
          "model_module_version": "1.2.0",
          "state": {
            "_model_module": "@jupyter-widgets/base",
            "_model_module_version": "1.2.0",
            "_model_name": "LayoutModel",
            "_view_count": null,
            "_view_module": "@jupyter-widgets/base",
            "_view_module_version": "1.2.0",
            "_view_name": "LayoutView",
            "align_content": null,
            "align_items": null,
            "align_self": null,
            "border": null,
            "bottom": null,
            "display": null,
            "flex": null,
            "flex_flow": null,
            "grid_area": null,
            "grid_auto_columns": null,
            "grid_auto_flow": null,
            "grid_auto_rows": null,
            "grid_column": null,
            "grid_gap": null,
            "grid_row": null,
            "grid_template_areas": null,
            "grid_template_columns": null,
            "grid_template_rows": null,
            "height": "30px",
            "justify_content": null,
            "justify_items": null,
            "left": null,
            "margin": null,
            "max_height": null,
            "max_width": null,
            "min_height": null,
            "min_width": null,
            "object_fit": null,
            "object_position": null,
            "order": null,
            "overflow": null,
            "overflow_x": null,
            "overflow_y": null,
            "padding": null,
            "right": null,
            "top": null,
            "visibility": null,
            "width": "86px"
          }
        },
        "0cb9fdd1dc39405aa875ba8fb4eef45d": {
          "model_module": "@jupyter-widgets/controls",
          "model_name": "ButtonStyleModel",
          "model_module_version": "1.5.0",
          "state": {
            "_model_module": "@jupyter-widgets/controls",
            "_model_module_version": "1.5.0",
            "_model_name": "ButtonStyleModel",
            "_view_count": null,
            "_view_module": "@jupyter-widgets/base",
            "_view_module_version": "1.2.0",
            "_view_name": "StyleView",
            "button_color": null,
            "font_weight": ""
          }
        },
        "995609148e944e25b50f84741d8805c0": {
          "model_module": "@jupyter-widgets/controls",
          "model_name": "ButtonModel",
          "model_module_version": "1.5.0",
          "state": {
            "_dom_classes": [],
            "_model_module": "@jupyter-widgets/controls",
            "_model_module_version": "1.5.0",
            "_model_name": "ButtonModel",
            "_view_count": null,
            "_view_module": "@jupyter-widgets/controls",
            "_view_module_version": "1.5.0",
            "_view_name": "ButtonView",
            "button_style": "",
            "description": "O",
            "disabled": false,
            "icon": "",
            "layout": "IPY_MODEL_7d5bc575d5374229aeeb040a2606ac5d",
            "style": "IPY_MODEL_d9992a65755a4871a46400f7ef5648b0",
            "tooltip": ""
          }
        },
        "7d5bc575d5374229aeeb040a2606ac5d": {
          "model_module": "@jupyter-widgets/base",
          "model_name": "LayoutModel",
          "model_module_version": "1.2.0",
          "state": {
            "_model_module": "@jupyter-widgets/base",
            "_model_module_version": "1.2.0",
            "_model_name": "LayoutModel",
            "_view_count": null,
            "_view_module": "@jupyter-widgets/base",
            "_view_module_version": "1.2.0",
            "_view_name": "LayoutView",
            "align_content": null,
            "align_items": null,
            "align_self": null,
            "border": null,
            "bottom": null,
            "display": null,
            "flex": null,
            "flex_flow": null,
            "grid_area": null,
            "grid_auto_columns": null,
            "grid_auto_flow": null,
            "grid_auto_rows": null,
            "grid_column": null,
            "grid_gap": null,
            "grid_row": null,
            "grid_template_areas": null,
            "grid_template_columns": null,
            "grid_template_rows": null,
            "height": "30px",
            "justify_content": null,
            "justify_items": null,
            "left": null,
            "margin": null,
            "max_height": null,
            "max_width": null,
            "min_height": null,
            "min_width": null,
            "object_fit": null,
            "object_position": null,
            "order": null,
            "overflow": null,
            "overflow_x": null,
            "overflow_y": null,
            "padding": null,
            "right": null,
            "top": null,
            "visibility": null,
            "width": "86px"
          }
        },
        "d9992a65755a4871a46400f7ef5648b0": {
          "model_module": "@jupyter-widgets/controls",
          "model_name": "ButtonStyleModel",
          "model_module_version": "1.5.0",
          "state": {
            "_model_module": "@jupyter-widgets/controls",
            "_model_module_version": "1.5.0",
            "_model_name": "ButtonStyleModel",
            "_view_count": null,
            "_view_module": "@jupyter-widgets/base",
            "_view_module_version": "1.2.0",
            "_view_name": "StyleView",
            "button_color": null,
            "font_weight": ""
          }
        },
        "456d16d3202f46d285152e9a3840a0fb": {
          "model_module": "@jupyter-widgets/controls",
          "model_name": "ButtonModel",
          "model_module_version": "1.5.0",
          "state": {
            "_dom_classes": [],
            "_model_module": "@jupyter-widgets/controls",
            "_model_module_version": "1.5.0",
            "_model_name": "ButtonModel",
            "_view_count": null,
            "_view_module": "@jupyter-widgets/controls",
            "_view_module_version": "1.5.0",
            "_view_name": "ButtonView",
            "button_style": "",
            "description": "SWAP",
            "disabled": false,
            "icon": "",
            "layout": "IPY_MODEL_9a60038c75cc45238c4f1c9a46698551",
            "style": "IPY_MODEL_4206b1bdae1f4c679cba8a9c0fa6e9e0",
            "tooltip": ""
          }
        },
        "9a60038c75cc45238c4f1c9a46698551": {
          "model_module": "@jupyter-widgets/base",
          "model_name": "LayoutModel",
          "model_module_version": "1.2.0",
          "state": {
            "_model_module": "@jupyter-widgets/base",
            "_model_module_version": "1.2.0",
            "_model_name": "LayoutModel",
            "_view_count": null,
            "_view_module": "@jupyter-widgets/base",
            "_view_module_version": "1.2.0",
            "_view_name": "LayoutView",
            "align_content": null,
            "align_items": null,
            "align_self": null,
            "border": null,
            "bottom": null,
            "display": null,
            "flex": null,
            "flex_flow": null,
            "grid_area": null,
            "grid_auto_columns": null,
            "grid_auto_flow": null,
            "grid_auto_rows": null,
            "grid_column": null,
            "grid_gap": null,
            "grid_row": null,
            "grid_template_areas": null,
            "grid_template_columns": null,
            "grid_template_rows": null,
            "height": "30px",
            "justify_content": null,
            "justify_items": null,
            "left": null,
            "margin": null,
            "max_height": null,
            "max_width": null,
            "min_height": null,
            "min_width": null,
            "object_fit": null,
            "object_position": null,
            "order": null,
            "overflow": null,
            "overflow_x": null,
            "overflow_y": null,
            "padding": null,
            "right": null,
            "top": null,
            "visibility": null,
            "width": "86px"
          }
        },
        "4206b1bdae1f4c679cba8a9c0fa6e9e0": {
          "model_module": "@jupyter-widgets/controls",
          "model_name": "ButtonStyleModel",
          "model_module_version": "1.5.0",
          "state": {
            "_model_module": "@jupyter-widgets/controls",
            "_model_module_version": "1.5.0",
            "_model_name": "ButtonStyleModel",
            "_view_count": null,
            "_view_module": "@jupyter-widgets/base",
            "_view_module_version": "1.2.0",
            "_view_name": "StyleView",
            "button_color": null,
            "font_weight": ""
          }
        },
        "e7def426ee874ed3b976afdc95510951": {
          "model_module": "@jupyter-widgets/controls",
          "model_name": "ButtonModel",
          "model_module_version": "1.5.0",
          "state": {
            "_dom_classes": [],
            "_model_module": "@jupyter-widgets/controls",
            "_model_module_version": "1.5.0",
            "_model_name": "ButtonModel",
            "_view_count": null,
            "_view_module": "@jupyter-widgets/controls",
            "_view_module_version": "1.5.0",
            "_view_name": "ButtonView",
            "button_style": "",
            "description": "0",
            "disabled": false,
            "icon": "",
            "layout": "IPY_MODEL_6e66683c12234398a56f03badf0064fe",
            "style": "IPY_MODEL_802c3f4472b141339ef9c9c1192dd7ba",
            "tooltip": ""
          }
        },
        "6e66683c12234398a56f03badf0064fe": {
          "model_module": "@jupyter-widgets/base",
          "model_name": "LayoutModel",
          "model_module_version": "1.2.0",
          "state": {
            "_model_module": "@jupyter-widgets/base",
            "_model_module_version": "1.2.0",
            "_model_name": "LayoutModel",
            "_view_count": null,
            "_view_module": "@jupyter-widgets/base",
            "_view_module_version": "1.2.0",
            "_view_name": "LayoutView",
            "align_content": null,
            "align_items": null,
            "align_self": null,
            "border": null,
            "bottom": null,
            "display": null,
            "flex": null,
            "flex_flow": null,
            "grid_area": null,
            "grid_auto_columns": null,
            "grid_auto_flow": null,
            "grid_auto_rows": null,
            "grid_column": null,
            "grid_gap": null,
            "grid_row": null,
            "grid_template_areas": null,
            "grid_template_columns": null,
            "grid_template_rows": null,
            "height": null,
            "justify_content": null,
            "justify_items": null,
            "left": null,
            "margin": null,
            "max_height": null,
            "max_width": null,
            "min_height": null,
            "min_width": null,
            "object_fit": null,
            "object_position": null,
            "order": null,
            "overflow": null,
            "overflow_x": null,
            "overflow_y": null,
            "padding": null,
            "right": null,
            "top": null,
            "visibility": null,
            "width": null
          }
        },
        "802c3f4472b141339ef9c9c1192dd7ba": {
          "model_module": "@jupyter-widgets/controls",
          "model_name": "ButtonStyleModel",
          "model_module_version": "1.5.0",
          "state": {
            "_model_module": "@jupyter-widgets/controls",
            "_model_module_version": "1.5.0",
            "_model_name": "ButtonStyleModel",
            "_view_count": null,
            "_view_module": "@jupyter-widgets/base",
            "_view_module_version": "1.2.0",
            "_view_name": "StyleView",
            "button_color": null,
            "font_weight": ""
          }
        },
        "62e5eedbb0f04a28bb61f8b68526e1ec": {
          "model_module": "@jupyter-widgets/controls",
          "model_name": "ButtonModel",
          "model_module_version": "1.5.0",
          "state": {
            "_dom_classes": [],
            "_model_module": "@jupyter-widgets/controls",
            "_model_module_version": "1.5.0",
            "_model_name": "ButtonModel",
            "_view_count": null,
            "_view_module": "@jupyter-widgets/controls",
            "_view_module_version": "1.5.0",
            "_view_name": "ButtonView",
            "button_style": "",
            "description": "1",
            "disabled": false,
            "icon": "",
            "layout": "IPY_MODEL_47b1d722ce7944f09dc3ddd92f7b3fb4",
            "style": "IPY_MODEL_698b32839f744ca7aef134f5b038b04f",
            "tooltip": ""
          }
        },
        "47b1d722ce7944f09dc3ddd92f7b3fb4": {
          "model_module": "@jupyter-widgets/base",
          "model_name": "LayoutModel",
          "model_module_version": "1.2.0",
          "state": {
            "_model_module": "@jupyter-widgets/base",
            "_model_module_version": "1.2.0",
            "_model_name": "LayoutModel",
            "_view_count": null,
            "_view_module": "@jupyter-widgets/base",
            "_view_module_version": "1.2.0",
            "_view_name": "LayoutView",
            "align_content": null,
            "align_items": null,
            "align_self": null,
            "border": null,
            "bottom": null,
            "display": null,
            "flex": null,
            "flex_flow": null,
            "grid_area": null,
            "grid_auto_columns": null,
            "grid_auto_flow": null,
            "grid_auto_rows": null,
            "grid_column": null,
            "grid_gap": null,
            "grid_row": null,
            "grid_template_areas": null,
            "grid_template_columns": null,
            "grid_template_rows": null,
            "height": null,
            "justify_content": null,
            "justify_items": null,
            "left": null,
            "margin": null,
            "max_height": null,
            "max_width": null,
            "min_height": null,
            "min_width": null,
            "object_fit": null,
            "object_position": null,
            "order": null,
            "overflow": null,
            "overflow_x": null,
            "overflow_y": null,
            "padding": null,
            "right": null,
            "top": null,
            "visibility": null,
            "width": null
          }
        },
        "698b32839f744ca7aef134f5b038b04f": {
          "model_module": "@jupyter-widgets/controls",
          "model_name": "ButtonStyleModel",
          "model_module_version": "1.5.0",
          "state": {
            "_model_module": "@jupyter-widgets/controls",
            "_model_module_version": "1.5.0",
            "_model_name": "ButtonStyleModel",
            "_view_count": null,
            "_view_module": "@jupyter-widgets/base",
            "_view_module_version": "1.2.0",
            "_view_name": "StyleView",
            "button_color": null,
            "font_weight": ""
          }
        },
        "286dfa42115244d58a813ffbaf2e5a06": {
          "model_module": "@jupyter-widgets/controls",
          "model_name": "ButtonModel",
          "model_module_version": "1.5.0",
          "state": {
            "_dom_classes": [],
            "_model_module": "@jupyter-widgets/controls",
            "_model_module_version": "1.5.0",
            "_model_name": "ButtonModel",
            "_view_count": null,
            "_view_module": "@jupyter-widgets/controls",
            "_view_module_version": "1.5.0",
            "_view_name": "ButtonView",
            "button_style": "",
            "description": "2",
            "disabled": false,
            "icon": "",
            "layout": "IPY_MODEL_80eae8ef03474bdaaae868fe8defd9ed",
            "style": "IPY_MODEL_fb6d22f69e7149f08f5dad42ebe2b443",
            "tooltip": ""
          }
        },
        "80eae8ef03474bdaaae868fe8defd9ed": {
          "model_module": "@jupyter-widgets/base",
          "model_name": "LayoutModel",
          "model_module_version": "1.2.0",
          "state": {
            "_model_module": "@jupyter-widgets/base",
            "_model_module_version": "1.2.0",
            "_model_name": "LayoutModel",
            "_view_count": null,
            "_view_module": "@jupyter-widgets/base",
            "_view_module_version": "1.2.0",
            "_view_name": "LayoutView",
            "align_content": null,
            "align_items": null,
            "align_self": null,
            "border": null,
            "bottom": null,
            "display": null,
            "flex": null,
            "flex_flow": null,
            "grid_area": null,
            "grid_auto_columns": null,
            "grid_auto_flow": null,
            "grid_auto_rows": null,
            "grid_column": null,
            "grid_gap": null,
            "grid_row": null,
            "grid_template_areas": null,
            "grid_template_columns": null,
            "grid_template_rows": null,
            "height": null,
            "justify_content": null,
            "justify_items": null,
            "left": null,
            "margin": null,
            "max_height": null,
            "max_width": null,
            "min_height": null,
            "min_width": null,
            "object_fit": null,
            "object_position": null,
            "order": null,
            "overflow": null,
            "overflow_x": null,
            "overflow_y": null,
            "padding": null,
            "right": null,
            "top": null,
            "visibility": null,
            "width": null
          }
        },
        "fb6d22f69e7149f08f5dad42ebe2b443": {
          "model_module": "@jupyter-widgets/controls",
          "model_name": "ButtonStyleModel",
          "model_module_version": "1.5.0",
          "state": {
            "_model_module": "@jupyter-widgets/controls",
            "_model_module_version": "1.5.0",
            "_model_name": "ButtonStyleModel",
            "_view_count": null,
            "_view_module": "@jupyter-widgets/base",
            "_view_module_version": "1.2.0",
            "_view_name": "StyleView",
            "button_color": null,
            "font_weight": ""
          }
        },
        "aefc0947ae634c8d98e37a07fa5e0b29": {
          "model_module": "@jupyter-widgets/controls",
          "model_name": "ButtonModel",
          "model_module_version": "1.5.0",
          "state": {
            "_dom_classes": [],
            "_model_module": "@jupyter-widgets/controls",
            "_model_module_version": "1.5.0",
            "_model_name": "ButtonModel",
            "_view_count": null,
            "_view_module": "@jupyter-widgets/controls",
            "_view_module_version": "1.5.0",
            "_view_name": "ButtonView",
            "button_style": "",
            "description": "3",
            "disabled": false,
            "icon": "",
            "layout": "IPY_MODEL_68eea892d3d6432ca5763cc37479886b",
            "style": "IPY_MODEL_ff7930ffa030443480b520a8bcc161c6",
            "tooltip": ""
          }
        },
        "68eea892d3d6432ca5763cc37479886b": {
          "model_module": "@jupyter-widgets/base",
          "model_name": "LayoutModel",
          "model_module_version": "1.2.0",
          "state": {
            "_model_module": "@jupyter-widgets/base",
            "_model_module_version": "1.2.0",
            "_model_name": "LayoutModel",
            "_view_count": null,
            "_view_module": "@jupyter-widgets/base",
            "_view_module_version": "1.2.0",
            "_view_name": "LayoutView",
            "align_content": null,
            "align_items": null,
            "align_self": null,
            "border": null,
            "bottom": null,
            "display": null,
            "flex": null,
            "flex_flow": null,
            "grid_area": null,
            "grid_auto_columns": null,
            "grid_auto_flow": null,
            "grid_auto_rows": null,
            "grid_column": null,
            "grid_gap": null,
            "grid_row": null,
            "grid_template_areas": null,
            "grid_template_columns": null,
            "grid_template_rows": null,
            "height": null,
            "justify_content": null,
            "justify_items": null,
            "left": null,
            "margin": null,
            "max_height": null,
            "max_width": null,
            "min_height": null,
            "min_width": null,
            "object_fit": null,
            "object_position": null,
            "order": null,
            "overflow": null,
            "overflow_x": null,
            "overflow_y": null,
            "padding": null,
            "right": null,
            "top": null,
            "visibility": null,
            "width": null
          }
        },
        "ff7930ffa030443480b520a8bcc161c6": {
          "model_module": "@jupyter-widgets/controls",
          "model_name": "ButtonStyleModel",
          "model_module_version": "1.5.0",
          "state": {
            "_model_module": "@jupyter-widgets/controls",
            "_model_module_version": "1.5.0",
            "_model_name": "ButtonStyleModel",
            "_view_count": null,
            "_view_module": "@jupyter-widgets/base",
            "_view_module_version": "1.2.0",
            "_view_name": "StyleView",
            "button_color": null,
            "font_weight": ""
          }
        },
        "24da0646bb3c4f8e9e79a00b4a6ee529": {
          "model_module": "@jupyter-widgets/controls",
          "model_name": "ButtonModel",
          "model_module_version": "1.5.0",
          "state": {
            "_dom_classes": [],
            "_model_module": "@jupyter-widgets/controls",
            "_model_module_version": "1.5.0",
            "_model_name": "ButtonModel",
            "_view_count": null,
            "_view_module": "@jupyter-widgets/controls",
            "_view_module_version": "1.5.0",
            "_view_name": "ButtonView",
            "button_style": "",
            "description": "4",
            "disabled": false,
            "icon": "",
            "layout": "IPY_MODEL_4a709b6f17184d25abf94933e2f7586f",
            "style": "IPY_MODEL_182d0d203d50426c89ddd6e731127d5a",
            "tooltip": ""
          }
        },
        "4a709b6f17184d25abf94933e2f7586f": {
          "model_module": "@jupyter-widgets/base",
          "model_name": "LayoutModel",
          "model_module_version": "1.2.0",
          "state": {
            "_model_module": "@jupyter-widgets/base",
            "_model_module_version": "1.2.0",
            "_model_name": "LayoutModel",
            "_view_count": null,
            "_view_module": "@jupyter-widgets/base",
            "_view_module_version": "1.2.0",
            "_view_name": "LayoutView",
            "align_content": null,
            "align_items": null,
            "align_self": null,
            "border": null,
            "bottom": null,
            "display": null,
            "flex": null,
            "flex_flow": null,
            "grid_area": null,
            "grid_auto_columns": null,
            "grid_auto_flow": null,
            "grid_auto_rows": null,
            "grid_column": null,
            "grid_gap": null,
            "grid_row": null,
            "grid_template_areas": null,
            "grid_template_columns": null,
            "grid_template_rows": null,
            "height": null,
            "justify_content": null,
            "justify_items": null,
            "left": null,
            "margin": null,
            "max_height": null,
            "max_width": null,
            "min_height": null,
            "min_width": null,
            "object_fit": null,
            "object_position": null,
            "order": null,
            "overflow": null,
            "overflow_x": null,
            "overflow_y": null,
            "padding": null,
            "right": null,
            "top": null,
            "visibility": null,
            "width": null
          }
        },
        "182d0d203d50426c89ddd6e731127d5a": {
          "model_module": "@jupyter-widgets/controls",
          "model_name": "ButtonStyleModel",
          "model_module_version": "1.5.0",
          "state": {
            "_model_module": "@jupyter-widgets/controls",
            "_model_module_version": "1.5.0",
            "_model_name": "ButtonStyleModel",
            "_view_count": null,
            "_view_module": "@jupyter-widgets/base",
            "_view_module_version": "1.2.0",
            "_view_name": "StyleView",
            "button_color": null,
            "font_weight": ""
          }
        },
        "f3e8206fd1504899abfc200fcbacc8e6": {
          "model_module": "@jupyter-widgets/controls",
          "model_name": "ButtonModel",
          "model_module_version": "1.5.0",
          "state": {
            "_dom_classes": [],
            "_model_module": "@jupyter-widgets/controls",
            "_model_module_version": "1.5.0",
            "_model_name": "ButtonModel",
            "_view_count": null,
            "_view_module": "@jupyter-widgets/controls",
            "_view_module_version": "1.5.0",
            "_view_name": "ButtonView",
            "button_style": "",
            "description": "5",
            "disabled": false,
            "icon": "",
            "layout": "IPY_MODEL_7546d65c1895499196dd803a06c90bde",
            "style": "IPY_MODEL_c9eaef6f2c6946329fdd701569d77880",
            "tooltip": ""
          }
        },
        "7546d65c1895499196dd803a06c90bde": {
          "model_module": "@jupyter-widgets/base",
          "model_name": "LayoutModel",
          "model_module_version": "1.2.0",
          "state": {
            "_model_module": "@jupyter-widgets/base",
            "_model_module_version": "1.2.0",
            "_model_name": "LayoutModel",
            "_view_count": null,
            "_view_module": "@jupyter-widgets/base",
            "_view_module_version": "1.2.0",
            "_view_name": "LayoutView",
            "align_content": null,
            "align_items": null,
            "align_self": null,
            "border": null,
            "bottom": null,
            "display": null,
            "flex": null,
            "flex_flow": null,
            "grid_area": null,
            "grid_auto_columns": null,
            "grid_auto_flow": null,
            "grid_auto_rows": null,
            "grid_column": null,
            "grid_gap": null,
            "grid_row": null,
            "grid_template_areas": null,
            "grid_template_columns": null,
            "grid_template_rows": null,
            "height": null,
            "justify_content": null,
            "justify_items": null,
            "left": null,
            "margin": null,
            "max_height": null,
            "max_width": null,
            "min_height": null,
            "min_width": null,
            "object_fit": null,
            "object_position": null,
            "order": null,
            "overflow": null,
            "overflow_x": null,
            "overflow_y": null,
            "padding": null,
            "right": null,
            "top": null,
            "visibility": null,
            "width": null
          }
        },
        "c9eaef6f2c6946329fdd701569d77880": {
          "model_module": "@jupyter-widgets/controls",
          "model_name": "ButtonStyleModel",
          "model_module_version": "1.5.0",
          "state": {
            "_model_module": "@jupyter-widgets/controls",
            "_model_module_version": "1.5.0",
            "_model_name": "ButtonStyleModel",
            "_view_count": null,
            "_view_module": "@jupyter-widgets/base",
            "_view_module_version": "1.2.0",
            "_view_name": "StyleView",
            "button_color": null,
            "font_weight": ""
          }
        },
        "6d1e173c116a4ddaab1b1e6b2438dbc9": {
          "model_module": "@jupyter-widgets/controls",
          "model_name": "ButtonModel",
          "model_module_version": "1.5.0",
          "state": {
            "_dom_classes": [],
            "_model_module": "@jupyter-widgets/controls",
            "_model_module_version": "1.5.0",
            "_model_name": "ButtonModel",
            "_view_count": null,
            "_view_module": "@jupyter-widgets/controls",
            "_view_module_version": "1.5.0",
            "_view_name": "ButtonView",
            "button_style": "",
            "description": "6",
            "disabled": false,
            "icon": "",
            "layout": "IPY_MODEL_dfd8f8e23c06471ab1a354ed7fd9b1db",
            "style": "IPY_MODEL_8b47528c906843e8be8c03aadbb37676",
            "tooltip": ""
          }
        },
        "dfd8f8e23c06471ab1a354ed7fd9b1db": {
          "model_module": "@jupyter-widgets/base",
          "model_name": "LayoutModel",
          "model_module_version": "1.2.0",
          "state": {
            "_model_module": "@jupyter-widgets/base",
            "_model_module_version": "1.2.0",
            "_model_name": "LayoutModel",
            "_view_count": null,
            "_view_module": "@jupyter-widgets/base",
            "_view_module_version": "1.2.0",
            "_view_name": "LayoutView",
            "align_content": null,
            "align_items": null,
            "align_self": null,
            "border": null,
            "bottom": null,
            "display": null,
            "flex": null,
            "flex_flow": null,
            "grid_area": null,
            "grid_auto_columns": null,
            "grid_auto_flow": null,
            "grid_auto_rows": null,
            "grid_column": null,
            "grid_gap": null,
            "grid_row": null,
            "grid_template_areas": null,
            "grid_template_columns": null,
            "grid_template_rows": null,
            "height": null,
            "justify_content": null,
            "justify_items": null,
            "left": null,
            "margin": null,
            "max_height": null,
            "max_width": null,
            "min_height": null,
            "min_width": null,
            "object_fit": null,
            "object_position": null,
            "order": null,
            "overflow": null,
            "overflow_x": null,
            "overflow_y": null,
            "padding": null,
            "right": null,
            "top": null,
            "visibility": null,
            "width": null
          }
        },
        "8b47528c906843e8be8c03aadbb37676": {
          "model_module": "@jupyter-widgets/controls",
          "model_name": "ButtonStyleModel",
          "model_module_version": "1.5.0",
          "state": {
            "_model_module": "@jupyter-widgets/controls",
            "_model_module_version": "1.5.0",
            "_model_name": "ButtonStyleModel",
            "_view_count": null,
            "_view_module": "@jupyter-widgets/base",
            "_view_module_version": "1.2.0",
            "_view_name": "StyleView",
            "button_color": null,
            "font_weight": ""
          }
        },
        "e99bf2c1eecf48f3a3e8156d51420793": {
          "model_module": "@jupyter-widgets/controls",
          "model_name": "ButtonModel",
          "model_module_version": "1.5.0",
          "state": {
            "_dom_classes": [],
            "_model_module": "@jupyter-widgets/controls",
            "_model_module_version": "1.5.0",
            "_model_name": "ButtonModel",
            "_view_count": null,
            "_view_module": "@jupyter-widgets/controls",
            "_view_module_version": "1.5.0",
            "_view_name": "ButtonView",
            "button_style": "",
            "description": "7",
            "disabled": false,
            "icon": "",
            "layout": "IPY_MODEL_992f95781c9448e3bfbed7cdea3a1eca",
            "style": "IPY_MODEL_3e00fe569721404b92665d12bd5ff71b",
            "tooltip": ""
          }
        },
        "992f95781c9448e3bfbed7cdea3a1eca": {
          "model_module": "@jupyter-widgets/base",
          "model_name": "LayoutModel",
          "model_module_version": "1.2.0",
          "state": {
            "_model_module": "@jupyter-widgets/base",
            "_model_module_version": "1.2.0",
            "_model_name": "LayoutModel",
            "_view_count": null,
            "_view_module": "@jupyter-widgets/base",
            "_view_module_version": "1.2.0",
            "_view_name": "LayoutView",
            "align_content": null,
            "align_items": null,
            "align_self": null,
            "border": null,
            "bottom": null,
            "display": null,
            "flex": null,
            "flex_flow": null,
            "grid_area": null,
            "grid_auto_columns": null,
            "grid_auto_flow": null,
            "grid_auto_rows": null,
            "grid_column": null,
            "grid_gap": null,
            "grid_row": null,
            "grid_template_areas": null,
            "grid_template_columns": null,
            "grid_template_rows": null,
            "height": null,
            "justify_content": null,
            "justify_items": null,
            "left": null,
            "margin": null,
            "max_height": null,
            "max_width": null,
            "min_height": null,
            "min_width": null,
            "object_fit": null,
            "object_position": null,
            "order": null,
            "overflow": null,
            "overflow_x": null,
            "overflow_y": null,
            "padding": null,
            "right": null,
            "top": null,
            "visibility": null,
            "width": null
          }
        },
        "3e00fe569721404b92665d12bd5ff71b": {
          "model_module": "@jupyter-widgets/controls",
          "model_name": "ButtonStyleModel",
          "model_module_version": "1.5.0",
          "state": {
            "_model_module": "@jupyter-widgets/controls",
            "_model_module_version": "1.5.0",
            "_model_name": "ButtonStyleModel",
            "_view_count": null,
            "_view_module": "@jupyter-widgets/base",
            "_view_module_version": "1.2.0",
            "_view_name": "StyleView",
            "button_color": null,
            "font_weight": ""
          }
        },
        "d5af0be626b84769a66cd03bb1c3d230": {
          "model_module": "@jupyter-widgets/controls",
          "model_name": "ButtonModel",
          "model_module_version": "1.5.0",
          "state": {
            "_dom_classes": [],
            "_model_module": "@jupyter-widgets/controls",
            "_model_module_version": "1.5.0",
            "_model_name": "ButtonModel",
            "_view_count": null,
            "_view_module": "@jupyter-widgets/controls",
            "_view_module_version": "1.5.0",
            "_view_name": "ButtonView",
            "button_style": "",
            "description": "8",
            "disabled": false,
            "icon": "",
            "layout": "IPY_MODEL_d0f721b6f14c4ca4bf1b26947cbaf32f",
            "style": "IPY_MODEL_3326516b4fdb43faa08616fc116feaeb",
            "tooltip": ""
          }
        },
        "d0f721b6f14c4ca4bf1b26947cbaf32f": {
          "model_module": "@jupyter-widgets/base",
          "model_name": "LayoutModel",
          "model_module_version": "1.2.0",
          "state": {
            "_model_module": "@jupyter-widgets/base",
            "_model_module_version": "1.2.0",
            "_model_name": "LayoutModel",
            "_view_count": null,
            "_view_module": "@jupyter-widgets/base",
            "_view_module_version": "1.2.0",
            "_view_name": "LayoutView",
            "align_content": null,
            "align_items": null,
            "align_self": null,
            "border": null,
            "bottom": null,
            "display": null,
            "flex": null,
            "flex_flow": null,
            "grid_area": null,
            "grid_auto_columns": null,
            "grid_auto_flow": null,
            "grid_auto_rows": null,
            "grid_column": null,
            "grid_gap": null,
            "grid_row": null,
            "grid_template_areas": null,
            "grid_template_columns": null,
            "grid_template_rows": null,
            "height": null,
            "justify_content": null,
            "justify_items": null,
            "left": null,
            "margin": null,
            "max_height": null,
            "max_width": null,
            "min_height": null,
            "min_width": null,
            "object_fit": null,
            "object_position": null,
            "order": null,
            "overflow": null,
            "overflow_x": null,
            "overflow_y": null,
            "padding": null,
            "right": null,
            "top": null,
            "visibility": null,
            "width": null
          }
        },
        "3326516b4fdb43faa08616fc116feaeb": {
          "model_module": "@jupyter-widgets/controls",
          "model_name": "ButtonStyleModel",
          "model_module_version": "1.5.0",
          "state": {
            "_model_module": "@jupyter-widgets/controls",
            "_model_module_version": "1.5.0",
            "_model_name": "ButtonStyleModel",
            "_view_count": null,
            "_view_module": "@jupyter-widgets/base",
            "_view_module_version": "1.2.0",
            "_view_name": "StyleView",
            "button_color": null,
            "font_weight": ""
          }
        },
        "54f40576dddf4bb3970da50bebdc5fec": {
          "model_module": "@jupyter-widgets/controls",
          "model_name": "ButtonModel",
          "model_module_version": "1.5.0",
          "state": {
            "_dom_classes": [],
            "_model_module": "@jupyter-widgets/controls",
            "_model_module_version": "1.5.0",
            "_model_name": "ButtonModel",
            "_view_count": null,
            "_view_module": "@jupyter-widgets/controls",
            "_view_module_version": "1.5.0",
            "_view_name": "ButtonView",
            "button_style": "",
            "description": "Replay",
            "disabled": false,
            "icon": "",
            "layout": "IPY_MODEL_ffb98279a73543dd8631ae090a41614b",
            "style": "IPY_MODEL_8529a2afd9a24adc9d29c64432e59332",
            "tooltip": ""
          }
        },
        "ffb98279a73543dd8631ae090a41614b": {
          "model_module": "@jupyter-widgets/base",
          "model_name": "LayoutModel",
          "model_module_version": "1.2.0",
          "state": {
            "_model_module": "@jupyter-widgets/base",
            "_model_module_version": "1.2.0",
            "_model_name": "LayoutModel",
            "_view_count": null,
            "_view_module": "@jupyter-widgets/base",
            "_view_module_version": "1.2.0",
            "_view_name": "LayoutView",
            "align_content": null,
            "align_items": null,
            "align_self": null,
            "border": null,
            "bottom": null,
            "display": null,
            "flex": null,
            "flex_flow": null,
            "grid_area": null,
            "grid_auto_columns": null,
            "grid_auto_flow": null,
            "grid_auto_rows": null,
            "grid_column": null,
            "grid_gap": null,
            "grid_row": null,
            "grid_template_areas": null,
            "grid_template_columns": null,
            "grid_template_rows": null,
            "height": null,
            "justify_content": null,
            "justify_items": null,
            "left": null,
            "margin": null,
            "max_height": null,
            "max_width": null,
            "min_height": null,
            "min_width": null,
            "object_fit": null,
            "object_position": null,
            "order": null,
            "overflow": null,
            "overflow_x": null,
            "overflow_y": null,
            "padding": null,
            "right": null,
            "top": null,
            "visibility": null,
            "width": null
          }
        },
        "8529a2afd9a24adc9d29c64432e59332": {
          "model_module": "@jupyter-widgets/controls",
          "model_name": "ButtonStyleModel",
          "model_module_version": "1.5.0",
          "state": {
            "_model_module": "@jupyter-widgets/controls",
            "_model_module_version": "1.5.0",
            "_model_name": "ButtonStyleModel",
            "_view_count": null,
            "_view_module": "@jupyter-widgets/base",
            "_view_module_version": "1.2.0",
            "_view_name": "StyleView",
            "button_color": null,
            "font_weight": ""
          }
        }
      }
    }
  },
  "cells": [
    {
      "cell_type": "markdown",
      "metadata": {
        "id": "view-in-github",
        "colab_type": "text"
      },
      "source": [
        "<a href=\"https://colab.research.google.com/github/ratthing/Documents/blob/master/Quokka_Quantum_Games.ipynb\" target=\"_parent\"><img src=\"https://colab.research.google.com/assets/colab-badge.svg\" alt=\"Open In Colab\"/></a>"
      ]
    },
    {
      "cell_type": "markdown",
      "source": [
        "![image.png](data:image/png;base64,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)"
      ],
      "metadata": {
        "id": "koFNSDn73FJf"
      }
    },
    {
      "cell_type": "markdown",
      "source": [
        "---\n",
        "\n",
        "\n",
        "# 🎮 **Let’s Make a Quantum Game!**\n",
        "\n",
        "Welcome to the ultimate journey of creating a **quantum tic-tac-toe game**—where you'll learn the fundamentals of quantum computing by diving straight into the action! This tutorial isn't just about building a game; it's about understanding the core concepts of quantum mechanics, all while having some fun along the way. 🎉\n",
        "\n",
        "#### 👩‍💻 **What You Need to Know**\n",
        "Don’t worry if you’re new to quantum computing! This tutorial is designed for beginners. However, having a bit of background in the following areas will help you follow along more smoothly:\n",
        "\n",
        "- **Object-Oriented Programming**: Familiarity with Python and its object-oriented programming concepts will be handy.\n",
        "- **Complex Numbers and Trigonometry**: Exposure to these topics will help when we dive into quantum math.\n",
        "\n",
        "#### 🚫 **What We Aren’t Going to Do**\n",
        "We’re not making a classical game with a quantum theme. This means we won’t be creating games that simply use randomness, or where elements are \"in two places at once,\" or even games that feature spooky action at a distance.\n",
        "\n",
        "#### ✅ **What We Are Going to Do**\n",
        "We are going to build a game that could actually run on a real quantum computer! Our goal is to design a game where the **game state** itself is represented by a quantum program. By the end, you’ll have a working tic-tac-toe game that harnesses the power of quantum mechanics.\n",
        "\n",
        "### 🖥️ **What Quantum Computer?**\n",
        "\n",
        "This one! Meet **Quokka**, your personal quantum computer emulator.\n",
        "\n",
        "<div style=\"text-align: center;\">\n",
        "   <img src=\"https://www.dropbox.com/scl/fi/vah5f19i54dbyy5lawz9z/Quokka_Unit.png?rlkey=f9xpwnozq913jpkmb6y9r7cgc&dl=0&raw=1\" width=\"300\">\n",
        "</div>\n",
        "\n",
        "With Quokka, you’ll be able to simulate quantum programs and bring your quantum tic-tac-toe game to life.\n",
        "\n",
        "### ⚙️ **Setting Up the Environment**\n",
        "\n",
        "Before we jump into coding, let's do a bit of housekeeping. The next cell will set up the environment with all the necessary packages and tools we’ll be using throughout this tutorial. Run the cell to get started! 🚀\n",
        "\n"
      ],
      "metadata": {
        "id": "py2hhKmTtvlC"
      }
    },
    {
      "cell_type": "code",
      "source": [
        "# Import essential libraries and modules for the game\n",
        "from google.colab import widgets  # For widgets in Google Colaboratory environment (if applicable)\n",
        "from ipywidgets import interact, interactive, fixed, interact_manual, Button, Layout  # For interactive UI elements\n",
        "import ipywidgets  # Additional ipywidgets utilities (for more complex widgets)\n",
        "from IPython.display import clear_output  # To clear the output of a cell in Jupyter/Colab\n",
        "\n",
        "# Data handling and communication\n",
        "import json  # For working with JSON (JavaScript Object Notation) data\n",
        "import requests  # For making HTTP requests to the Quokka\n",
        "\n",
        "# Suppressing warnings (optional)\n",
        "from requests.packages.urllib3.exceptions import InsecureRequestWarning\n",
        "requests.packages.urllib3.disable_warnings(InsecureRequestWarning)  # Disable warnings about insecure requests"
      ],
      "metadata": {
        "id": "Na0JCVR5z9R7"
      },
      "execution_count": null,
      "outputs": []
    },
    {
      "cell_type": "markdown",
      "source": [
        "Next, we create a little helper function that performs the fine-grained operations needed to send your quantum program (quantum circuit or code) to the Quokka and extract only the result of the computation."
      ],
      "metadata": {
        "id": "Vu-G6Fxe4DJP"
      }
    },
    {
      "cell_type": "code",
      "execution_count": null,
      "metadata": {
        "id": "8-1JZaoHeyGW"
      },
      "outputs": [],
      "source": [
        "# Create a simple function to wrap your quantum program up, send to Quokka, and extract results\n",
        "def send_to_the_quokka(circuit):\n",
        "  req_str_qasm = 'http://quokka1.quokkacomputing.com/qsim/qasm' # the URL listening for qasm files\n",
        "\n",
        "  # create data to wrap in JSON object to send to Quokka\n",
        "  data = {\n",
        "    'script': circuit,\n",
        "    'count': 1\n",
        "    }\n",
        "\n",
        "  result = requests.post(req_str_qasm, json=data, verify=False) # send to Quokka and record results\n",
        "  json_obj = json.loads(result.content) # convert to dictionary\n",
        "\n",
        "  return ''.join(map(str, json_obj['result']['c'][0])) # convert to a string of binary values"
      ]
    },
    {
      "cell_type": "markdown",
      "source": [
        "#My first quantum game"
      ],
      "metadata": {
        "id": "kCc3Is1GzMyO"
      }
    },
    {
      "cell_type": "markdown",
      "source": [
        "## 🎲 **But First: Classical Game States**\n",
        "\n",
        "Before we jump into the quantum realm, let’s start with something familiar: **tic-tac-toe**. To implement a tic-tac-toe game, you need a way to store the state of the game in memory. There are nine squares on the board, and each square can be in one of two states—either occupied by Player X or Player O, or unoccupied. This means you’ll need nine bits to represent the entire game board.\n",
        "\n",
        "Here’s a quick refresher:\n",
        "\n",
        "- **Nine Squares**: The tic-tac-toe board has 9 squares.\n",
        "- **Two Options per Square**: Each square can either be `empty`, `X`, or `O`. For simplicity in the classical representation, let’s consider it binary: `empty` or `occupied`.\n",
        "\n",
        "Thus, a **classical** tic-tac-toe game can be represented by a series of bits (0s and 1s) where each bit represents the state of a single square.\n",
        "\n",
        "Here’s an implementation of a classical tic-tac-toe game in Python.\n",
        "\n",
        "### 🧠 **How It Works**:\n",
        "- **ClassicalBoard Class**: Manages the state of the game board, tracking player moves, and checking for winning combinations.\n",
        "- **ClassicalGame Class**: Handles the user interface, including button clicks, move logic, and resetting the game.\n",
        "\n",
        "### 🕹️ **Next Steps**\n",
        "This classical implementation provides a foundation for understanding how game states and logic work. Next, we’ll extend this concept into the quantum domain, where we’ll explore how qubits and superposition can bring a whole new dimension to the game of tic-tac-toe!"
      ],
      "metadata": {
        "id": "vOIh8lsE4iLP"
      }
    },
    {
      "cell_type": "code",
      "source": [
        "class ClassicalBoard:\n",
        "    \"\"\"\n",
        "    Represents a classical tic-tac-toe board.\n",
        "\n",
        "    This class manages:\n",
        "      - The board cells.\n",
        "      - Player moves.\n",
        "      - Win tracking for each player.\n",
        "    \"\"\"\n",
        "\n",
        "    def __init__(self):\n",
        "        \"\"\"Initializes the classical board.\"\"\"\n",
        "        self.tab = []      # List of dictionaries for each cell {'default': index, 'player': ' '}\n",
        "        self.winsX = 0     # Number of wins for player X\n",
        "        self.winsO = 0     # Number of wins for player O\n",
        "\n",
        "        # Initialize board state\n",
        "        for idx in range(0, 9):\n",
        "            self.tab.append({'default': idx, 'player': ' '})\n",
        "\n",
        "    def make_move(self, cell, player):\n",
        "        \"\"\"Applies the move and updates the board state.\"\"\"\n",
        "        if self.tab[cell]['player'] == ' ':\n",
        "            self.tab[cell]['player'] = player\n",
        "        else:\n",
        "            print(\"Illegal move! Cell already occupied.\")\n",
        "\n",
        "    def display(self):\n",
        "        \"\"\"Prints the current board state.\"\"\"\n",
        "        for row in range(3):\n",
        "            print('|'.join([self.tab[row * 3 + col]['player'] for col in range(3)]))\n",
        "            if row < 2:\n",
        "                print('-' * 5)\n",
        "\n",
        "    def countWinners(self, player):\n",
        "        \"\"\"Counts the number of winning combinations for a given player ('X' or 'O').\"\"\"\n",
        "        winners = ((0, 1, 2), (3, 4, 5), (6, 7, 8), (0, 3, 6), (1, 4, 7), (2, 5, 8), (0, 4, 8), (2, 4, 6))\n",
        "        for combo in winners:\n",
        "            if all(self.tab[idx]['player'] == player for idx in combo):\n",
        "                return True\n",
        "        return False\n",
        "\n",
        "    def count_all_winners(self):\n",
        "        \"\"\"Counts the number of wins for each player.\"\"\"\n",
        "        self.winsX = 0\n",
        "        self.winsO = 0\n",
        "        if self.countWinners('X'):\n",
        "            self.winsX += 1\n",
        "        if self.countWinners('O'):\n",
        "            self.winsO += 1\n",
        "\n",
        "    def new(self):\n",
        "        \"\"\"Resets the board for a new game.\"\"\"\n",
        "        self.tab.clear()\n",
        "        for idx in range(0, 9):\n",
        "            self.tab.append({'default': idx, 'player': ' '})\n",
        "\n",
        "class ClassicalGame:\n",
        "    \"\"\"\n",
        "    Manages the user interface and interactions for the classical tic-tac-toe game.\n",
        "    \"\"\"\n",
        "\n",
        "    def __init__(self):\n",
        "        \"\"\"Initializes the game interface.\"\"\"\n",
        "        self.board = ClassicalBoard()  # Create a new classical tic-tac-toe board\n",
        "\n",
        "        # Create buttons for each cell of the board\n",
        "        self.boardbutton_list = []\n",
        "        for idx in range(0, 9):\n",
        "            button = Button(description=str(idx))\n",
        "            button.on_click(self.handle_game)  # Connect button clicks to the game handler\n",
        "            self.boardbutton_list.append(button)\n",
        "\n",
        "        # Create buttons for game functions (X, O)\n",
        "        self.funcbutton_list = []\n",
        "        self.newButton('X')\n",
        "        self.newButton('O')\n",
        "\n",
        "        # Initial display\n",
        "        self.printmenu()\n",
        "        self.printBoard()\n",
        "\n",
        "    def newButton(self, name):\n",
        "        \"\"\"Creates a new button with the given name and associates it with the game handler.\"\"\"\n",
        "        function = Button(description=name, layout=Layout(width='86px', height='30px'))\n",
        "        function.on_click(self.handle_game)\n",
        "        self.funcbutton_list.append(function)\n",
        "\n",
        "    def handle_game(self, b):\n",
        "        \"\"\"Handles button clicks and game logic.\"\"\"\n",
        "        try:\n",
        "            if b.description == 'Replay':  # If the Replay button is clicked\n",
        "                clear_output()\n",
        "                self.board.new()\n",
        "                self.printmenu()\n",
        "                self.printBoard()\n",
        "            elif int(b.description) >= 0:  # A cell button was clicked\n",
        "                clear_output()\n",
        "                self.printmenu()\n",
        "                self.board.make_move(int(b.description), self.board.function)\n",
        "                self.printBoard()\n",
        "                if all(cell['player'] != ' ' for cell in self.board.tab):\n",
        "                    self.end_game()\n",
        "            else:  # A function button (X, O) was clicked\n",
        "                self.board.function = b.description\n",
        "\n",
        "        except ValueError:  # A function button (X, O) was clicked\n",
        "            self.board.function = b.description\n",
        "\n",
        "    def printmenu(self):\n",
        "        \"\"\"Prints the menu buttons for selecting move types.\"\"\"\n",
        "        grid = widgets.Grid(1, 2)  # Create a grid layout for the buttons\n",
        "        for (row, col) in grid:  # Iterate over the grid cells\n",
        "            display(self.funcbutton_list[col])  # Display each button in its cell\n",
        "\n",
        "    def end_game(self):\n",
        "        \"\"\"Ends the game and counts the winning combinations.\"\"\"\n",
        "        self.board.count_all_winners()\n",
        "        print(\"Game Over!\")\n",
        "        self.scoreboard()\n",
        "        self.replay()\n",
        "\n",
        "    def scoreboard(self):\n",
        "        \"\"\"Prints the current win counts for each player.\"\"\"\n",
        "        print(\"X wins: \" + str(self.board.winsX) + \"  O wins: \" + str(self.board.winsO))\n",
        "\n",
        "    def replay(self):\n",
        "        \"\"\"Creates and displays the \"Replay\" button.\"\"\"\n",
        "        rep = Button(description=\"Replay\")\n",
        "        rep.on_click(self.handle_game)\n",
        "        display(rep)\n",
        "\n",
        "    def printBoard(self):\n",
        "        \"\"\"Prints the current state of the game board.\"\"\"\n",
        "        grid = widgets.Grid(1, 3, header_row=True, header_column=True)  # Grid for the board\n",
        "        for row in range(3):\n",
        "            for (useless, col) in grid:  # Iterate over the grid cells\n",
        "                print(\"\\n\" + self.board.tab[col + row * 3]['player'] + \"\\n\")  # Display cell contents\n",
        "                display(self.boardbutton_list[col + row * 3])  # Display the cell button\n",
        "\n",
        "# Create a new game instance\n",
        "game = ClassicalGame()"
      ],
      "metadata": {
        "colab": {
          "base_uri": "https://localhost:8080/",
          "height": 310,
          "referenced_widgets": [
            "b6fa1804082c451cbfbe397af2126ae5",
            "2874a632bc71414caf73d367da437b88",
            "50fe85bc83f049fda5b53e4b2dc1a5a7",
            "4f62f5883de148efa47007b17cb84255",
            "87036438a43247c2ab8c19814aba1889",
            "c26b6c7d64b14191bc323d82b74e0957",
            "e1e252121873441a9511c49815458dbc",
            "782666596c234a3d9cea3090a29ac64f",
            "3b42a6a83d73448da3fcb9255992fdb7",
            "500cb23ac93d4b71ba1f25f24effa95c",
            "cbdc4dbfda3f4558b5aa3bf7752d2d42",
            "de9ff71091244dcd8ed71d31ee07775d",
            "e5e1a3b99c04427a8158f08662a512f0",
            "1eda184e6ce34cd582f5b490d488143e",
            "9f03c23c90d24c3395e9b06e7682b67b",
            "0a3001365b144552ba057ef513359ef4",
            "a3197cd49c604e9fa8f1e9da0ef2c0ca",
            "ce1bebfd47614068b190cddfc2cef9bd",
            "bf31ace367fe4a6d9cecaad02f2e3c8f",
            "6bce8d1452d94703b2095a21969137d8",
            "0774bc71b6c34084b226208f29f13cb0",
            "cb28a55a07b84ceba971cfae692b34ee",
            "adf584343a184f318c18a3f92ef89e5f",
            "19d8a14e1be141f3af8dd17667eb1cca",
            "570257884a6a4f248668ef8003d07309",
            "9aa9fa5f818c48b1a35c975578ab7f5a",
            "876d59366f0549ecbc9871ce978e9289",
            "5195e20726a845f39e2550d206f712cb",
            "97c1b37f5a97414880a14c08eed7ce10",
            "1c72c949370849a39f87da8b60e47c90",
            "036f229bea734b6abe9cccaddfb0ec54",
            "254e01e3e09c48368d6298529f65d70e",
            "fc2f56973a05416298cf468c353f18b2"
          ]
        },
        "id": "NtRFUBX4aYav",
        "outputId": "6f116bff-d7fd-4fdc-bf3e-c4cf250eeaf4"
      },
      "execution_count": null,
      "outputs": [
        {
          "output_type": "display_data",
          "data": {
            "text/plain": [
              "<IPython.core.display.HTML object>"
            ],
            "text/html": [
              "<style>\n",
              "       table#id2, #id2 > tbody > tr > th, #id2 > tbody > tr > td {\n",
              "         border: 1px solid lightgray;\n",
              "         border-collapse:collapse;\n",
              "         \n",
              "        }</style>"
            ]
          },
          "metadata": {}
        },
        {
          "output_type": "display_data",
          "data": {
            "text/plain": [
              "<IPython.core.display.HTML object>"
            ],
            "text/html": [
              "<table id=id2><tr><td id=id2-0-0></td><td id=id2-0-1></td></tr></table>"
            ]
          },
          "metadata": {}
        },
        {
          "output_type": "display_data",
          "data": {
            "text/plain": [
              "<IPython.core.display.Javascript object>"
            ],
            "application/javascript": [
              "window[\"676810c4-722a-11ef-9a0a-0242ac1c000c\"] = google.colab.output.getActiveOutputArea();\n",
              "//# sourceURL=js_90cd0c81d2"
            ]
          },
          "metadata": {}
        },
        {
          "output_type": "display_data",
          "data": {
            "text/plain": [
              "<IPython.core.display.Javascript object>"
            ],
            "application/javascript": [
              "window[\"6768aef8-722a-11ef-9a0a-0242ac1c000c\"] = document.querySelector(\"#id2-0-0\");\n",
              "//# sourceURL=js_cf8e954e19"
            ]
          },
          "metadata": {}
        },
        {
          "output_type": "display_data",
          "data": {
            "text/plain": [
              "<IPython.core.display.Javascript object>"
            ],
            "application/javascript": [
              "window[\"67691f46-722a-11ef-9a0a-0242ac1c000c\"] = google.colab.output.setActiveOutputArea(window[\"6768aef8-722a-11ef-9a0a-0242ac1c000c\"]);\n",
              "//# sourceURL=js_95dfa496e2"
            ]
          },
          "metadata": {}
        },
        {
          "output_type": "display_data",
          "data": {
            "text/plain": [
              "Button(description='X', layout=Layout(height='30px', width='86px'), style=ButtonStyle())"
            ],
            "application/vnd.jupyter.widget-view+json": {
              "version_major": 2,
              "version_minor": 0,
              "model_id": "b6fa1804082c451cbfbe397af2126ae5"
            }
          },
          "metadata": {}
        },
        {
          "output_type": "display_data",
          "data": {
            "text/plain": [
              "<IPython.core.display.Javascript object>"
            ],
            "application/javascript": [
              "window[\"676ad142-722a-11ef-9a0a-0242ac1c000c\"] = google.colab.output.setActiveOutputArea(window[\"676810c4-722a-11ef-9a0a-0242ac1c000c\"]);\n",
              "//# sourceURL=js_5ec3ae095d"
            ]
          },
          "metadata": {}
        },
        {
          "output_type": "display_data",
          "data": {
            "text/plain": [
              "<IPython.core.display.Javascript object>"
            ],
            "application/javascript": [
              "window[\"676e123a-722a-11ef-9a0a-0242ac1c000c\"] = google.colab.output.getActiveOutputArea();\n",
              "//# sourceURL=js_0c9905eaab"
            ]
          },
          "metadata": {}
        },
        {
          "output_type": "display_data",
          "data": {
            "text/plain": [
              "<IPython.core.display.Javascript object>"
            ],
            "application/javascript": [
              "window[\"676e6af0-722a-11ef-9a0a-0242ac1c000c\"] = document.querySelector(\"#id2-0-1\");\n",
              "//# sourceURL=js_dfdbf06e6f"
            ]
          },
          "metadata": {}
        },
        {
          "output_type": "display_data",
          "data": {
            "text/plain": [
              "<IPython.core.display.Javascript object>"
            ],
            "application/javascript": [
              "window[\"676ecf0e-722a-11ef-9a0a-0242ac1c000c\"] = google.colab.output.setActiveOutputArea(window[\"676e6af0-722a-11ef-9a0a-0242ac1c000c\"]);\n",
              "//# sourceURL=js_06534b73f6"
            ]
          },
          "metadata": {}
        },
        {
          "output_type": "display_data",
          "data": {
            "text/plain": [
              "Button(description='O', layout=Layout(height='30px', width='86px'), style=ButtonStyle())"
            ],
            "application/vnd.jupyter.widget-view+json": {
              "version_major": 2,
              "version_minor": 0,
              "model_id": "4f62f5883de148efa47007b17cb84255"
            }
          },
          "metadata": {}
        },
        {
          "output_type": "display_data",
          "data": {
            "text/plain": [
              "<IPython.core.display.Javascript object>"
            ],
            "application/javascript": [
              "window[\"67705950-722a-11ef-9a0a-0242ac1c000c\"] = google.colab.output.setActiveOutputArea(window[\"676e123a-722a-11ef-9a0a-0242ac1c000c\"]);\n",
              "//# sourceURL=js_02404e1926"
            ]
          },
          "metadata": {}
        },
        {
          "output_type": "display_data",
          "data": {
            "text/plain": [
              "<IPython.core.display.HTML object>"
            ],
            "text/html": [
              "<style>\n",
              "       table#id4, #id4 > tbody > tr > th, #id4 > tbody > tr > td {\n",
              "         border: 1px solid lightgray;\n",
              "         border-collapse:collapse;\n",
              "         \n",
              "        }</style>"
            ]
          },
          "metadata": {}
        },
        {
          "output_type": "display_data",
          "data": {
            "text/plain": [
              "<IPython.core.display.HTML object>"
            ],
            "text/html": [
              "<table id=id4><tr><th id=id4-0-0></th><th id=id4-0-1></th><th id=id4-0-2></th></tr></table>"
            ]
          },
          "metadata": {}
        },
        {
          "output_type": "display_data",
          "data": {
            "text/plain": [
              "<IPython.core.display.Javascript object>"
            ],
            "application/javascript": [
              "window[\"6773ac04-722a-11ef-9a0a-0242ac1c000c\"] = google.colab.output.getActiveOutputArea();\n",
              "//# sourceURL=js_3da7d99346"
            ]
          },
          "metadata": {}
        },
        {
          "output_type": "display_data",
          "data": {
            "text/plain": [
              "<IPython.core.display.Javascript object>"
            ],
            "application/javascript": [
              "window[\"6773ff24-722a-11ef-9a0a-0242ac1c000c\"] = document.querySelector(\"#id4-0-0\");\n",
              "//# sourceURL=js_db1db5859a"
            ]
          },
          "metadata": {}
        },
        {
          "output_type": "display_data",
          "data": {
            "text/plain": [
              "<IPython.core.display.Javascript object>"
            ],
            "application/javascript": [
              "window[\"67744fc4-722a-11ef-9a0a-0242ac1c000c\"] = google.colab.output.setActiveOutputArea(window[\"6773ff24-722a-11ef-9a0a-0242ac1c000c\"]);\n",
              "//# sourceURL=js_569443294c"
            ]
          },
          "metadata": {}
        },
        {
          "output_type": "stream",
          "name": "stdout",
          "text": [
            "\n",
            " \n",
            "\n"
          ]
        },
        {
          "output_type": "display_data",
          "data": {
            "text/plain": [
              "Button(description='0', style=ButtonStyle())"
            ],
            "application/vnd.jupyter.widget-view+json": {
              "version_major": 2,
              "version_minor": 0,
              "model_id": "e1e252121873441a9511c49815458dbc"
            }
          },
          "metadata": {}
        },
        {
          "output_type": "display_data",
          "data": {
            "text/plain": [
              "<IPython.core.display.Javascript object>"
            ],
            "application/javascript": [
              "window[\"67765616-722a-11ef-9a0a-0242ac1c000c\"] = google.colab.output.setActiveOutputArea(window[\"6773ac04-722a-11ef-9a0a-0242ac1c000c\"]);\n",
              "//# sourceURL=js_2a462b849e"
            ]
          },
          "metadata": {}
        },
        {
          "output_type": "display_data",
          "data": {
            "text/plain": [
              "<IPython.core.display.Javascript object>"
            ],
            "application/javascript": [
              "window[\"6778cc70-722a-11ef-9a0a-0242ac1c000c\"] = google.colab.output.getActiveOutputArea();\n",
              "//# sourceURL=js_23fc4dfeb7"
            ]
          },
          "metadata": {}
        },
        {
          "output_type": "display_data",
          "data": {
            "text/plain": [
              "<IPython.core.display.Javascript object>"
            ],
            "application/javascript": [
              "window[\"67794100-722a-11ef-9a0a-0242ac1c000c\"] = document.querySelector(\"#id4-0-1\");\n",
              "//# sourceURL=js_25f13877bb"
            ]
          },
          "metadata": {}
        },
        {
          "output_type": "display_data",
          "data": {
            "text/plain": [
              "<IPython.core.display.Javascript object>"
            ],
            "application/javascript": [
              "window[\"6779b1f8-722a-11ef-9a0a-0242ac1c000c\"] = google.colab.output.setActiveOutputArea(window[\"67794100-722a-11ef-9a0a-0242ac1c000c\"]);\n",
              "//# sourceURL=js_119de3fa80"
            ]
          },
          "metadata": {}
        },
        {
          "output_type": "stream",
          "name": "stdout",
          "text": [
            "\n",
            " \n",
            "\n"
          ]
        },
        {
          "output_type": "display_data",
          "data": {
            "text/plain": [
              "Button(description='1', style=ButtonStyle())"
            ],
            "application/vnd.jupyter.widget-view+json": {
              "version_major": 2,
              "version_minor": 0,
              "model_id": "500cb23ac93d4b71ba1f25f24effa95c"
            }
          },
          "metadata": {}
        },
        {
          "output_type": "display_data",
          "data": {
            "text/plain": [
              "<IPython.core.display.Javascript object>"
            ],
            "application/javascript": [
              "window[\"677bbdfe-722a-11ef-9a0a-0242ac1c000c\"] = google.colab.output.setActiveOutputArea(window[\"6778cc70-722a-11ef-9a0a-0242ac1c000c\"]);\n",
              "//# sourceURL=js_01d2e3814a"
            ]
          },
          "metadata": {}
        },
        {
          "output_type": "display_data",
          "data": {
            "text/plain": [
              "<IPython.core.display.Javascript object>"
            ],
            "application/javascript": [
              "window[\"677e27ec-722a-11ef-9a0a-0242ac1c000c\"] = google.colab.output.getActiveOutputArea();\n",
              "//# sourceURL=js_2827d2fe58"
            ]
          },
          "metadata": {}
        },
        {
          "output_type": "display_data",
          "data": {
            "text/plain": [
              "<IPython.core.display.Javascript object>"
            ],
            "application/javascript": [
              "window[\"677e8318-722a-11ef-9a0a-0242ac1c000c\"] = document.querySelector(\"#id4-0-2\");\n",
              "//# sourceURL=js_7dc70e9754"
            ]
          },
          "metadata": {}
        },
        {
          "output_type": "display_data",
          "data": {
            "text/plain": [
              "<IPython.core.display.Javascript object>"
            ],
            "application/javascript": [
              "window[\"677ee6be-722a-11ef-9a0a-0242ac1c000c\"] = google.colab.output.setActiveOutputArea(window[\"677e8318-722a-11ef-9a0a-0242ac1c000c\"]);\n",
              "//# sourceURL=js_4b1fbd4de7"
            ]
          },
          "metadata": {}
        },
        {
          "output_type": "stream",
          "name": "stdout",
          "text": [
            "\n",
            " \n",
            "\n"
          ]
        },
        {
          "output_type": "display_data",
          "data": {
            "text/plain": [
              "Button(description='2', style=ButtonStyle())"
            ],
            "application/vnd.jupyter.widget-view+json": {
              "version_major": 2,
              "version_minor": 0,
              "model_id": "e5e1a3b99c04427a8158f08662a512f0"
            }
          },
          "metadata": {}
        },
        {
          "output_type": "display_data",
          "data": {
            "text/plain": [
              "<IPython.core.display.Javascript object>"
            ],
            "application/javascript": [
              "window[\"6780caec-722a-11ef-9a0a-0242ac1c000c\"] = google.colab.output.setActiveOutputArea(window[\"677e27ec-722a-11ef-9a0a-0242ac1c000c\"]);\n",
              "//# sourceURL=js_67a4640759"
            ]
          },
          "metadata": {}
        },
        {
          "output_type": "display_data",
          "data": {
            "text/plain": [
              "<IPython.core.display.Javascript object>"
            ],
            "application/javascript": [
              "window[\"6783281e-722a-11ef-9a0a-0242ac1c000c\"] = google.colab.output.getActiveOutputArea();\n",
              "//# sourceURL=js_e0989cf8c7"
            ]
          },
          "metadata": {}
        },
        {
          "output_type": "display_data",
          "data": {
            "text/plain": [
              "<IPython.core.display.Javascript object>"
            ],
            "application/javascript": [
              "window[\"678395b0-722a-11ef-9a0a-0242ac1c000c\"] = document.querySelector(\"#id4-0-0\");\n",
              "//# sourceURL=js_fc5eb5ffde"
            ]
          },
          "metadata": {}
        },
        {
          "output_type": "display_data",
          "data": {
            "text/plain": [
              "<IPython.core.display.Javascript object>"
            ],
            "application/javascript": [
              "window[\"6783f9ba-722a-11ef-9a0a-0242ac1c000c\"] = google.colab.output.setActiveOutputArea(window[\"678395b0-722a-11ef-9a0a-0242ac1c000c\"]);\n",
              "//# sourceURL=js_52cbccd252"
            ]
          },
          "metadata": {}
        },
        {
          "output_type": "stream",
          "name": "stdout",
          "text": [
            "\n",
            " \n",
            "\n"
          ]
        },
        {
          "output_type": "display_data",
          "data": {
            "text/plain": [
              "Button(description='3', style=ButtonStyle())"
            ],
            "application/vnd.jupyter.widget-view+json": {
              "version_major": 2,
              "version_minor": 0,
              "model_id": "0a3001365b144552ba057ef513359ef4"
            }
          },
          "metadata": {}
        },
        {
          "output_type": "display_data",
          "data": {
            "text/plain": [
              "<IPython.core.display.Javascript object>"
            ],
            "application/javascript": [
              "window[\"6785a72e-722a-11ef-9a0a-0242ac1c000c\"] = google.colab.output.setActiveOutputArea(window[\"6783281e-722a-11ef-9a0a-0242ac1c000c\"]);\n",
              "//# sourceURL=js_98c30f8f5c"
            ]
          },
          "metadata": {}
        },
        {
          "output_type": "display_data",
          "data": {
            "text/plain": [
              "<IPython.core.display.Javascript object>"
            ],
            "application/javascript": [
              "window[\"678799c6-722a-11ef-9a0a-0242ac1c000c\"] = google.colab.output.getActiveOutputArea();\n",
              "//# sourceURL=js_bb83d27831"
            ]
          },
          "metadata": {}
        },
        {
          "output_type": "display_data",
          "data": {
            "text/plain": [
              "<IPython.core.display.Javascript object>"
            ],
            "application/javascript": [
              "window[\"67880046-722a-11ef-9a0a-0242ac1c000c\"] = document.querySelector(\"#id4-0-1\");\n",
              "//# sourceURL=js_86be213143"
            ]
          },
          "metadata": {}
        },
        {
          "output_type": "display_data",
          "data": {
            "text/plain": [
              "<IPython.core.display.Javascript object>"
            ],
            "application/javascript": [
              "window[\"678866bc-722a-11ef-9a0a-0242ac1c000c\"] = google.colab.output.setActiveOutputArea(window[\"67880046-722a-11ef-9a0a-0242ac1c000c\"]);\n",
              "//# sourceURL=js_b294bd4160"
            ]
          },
          "metadata": {}
        },
        {
          "output_type": "stream",
          "name": "stdout",
          "text": [
            "\n",
            " \n",
            "\n"
          ]
        },
        {
          "output_type": "display_data",
          "data": {
            "text/plain": [
              "Button(description='4', style=ButtonStyle())"
            ],
            "application/vnd.jupyter.widget-view+json": {
              "version_major": 2,
              "version_minor": 0,
              "model_id": "bf31ace367fe4a6d9cecaad02f2e3c8f"
            }
          },
          "metadata": {}
        },
        {
          "output_type": "display_data",
          "data": {
            "text/plain": [
              "<IPython.core.display.Javascript object>"
            ],
            "application/javascript": [
              "window[\"678a2678-722a-11ef-9a0a-0242ac1c000c\"] = google.colab.output.setActiveOutputArea(window[\"678799c6-722a-11ef-9a0a-0242ac1c000c\"]);\n",
              "//# sourceURL=js_77e9b70e86"
            ]
          },
          "metadata": {}
        },
        {
          "output_type": "display_data",
          "data": {
            "text/plain": [
              "<IPython.core.display.Javascript object>"
            ],
            "application/javascript": [
              "window[\"678cffa6-722a-11ef-9a0a-0242ac1c000c\"] = google.colab.output.getActiveOutputArea();\n",
              "//# sourceURL=js_750211d631"
            ]
          },
          "metadata": {}
        },
        {
          "output_type": "display_data",
          "data": {
            "text/plain": [
              "<IPython.core.display.Javascript object>"
            ],
            "application/javascript": [
              "window[\"678d55c8-722a-11ef-9a0a-0242ac1c000c\"] = document.querySelector(\"#id4-0-2\");\n",
              "//# sourceURL=js_22c776c1c3"
            ]
          },
          "metadata": {}
        },
        {
          "output_type": "display_data",
          "data": {
            "text/plain": [
              "<IPython.core.display.Javascript object>"
            ],
            "application/javascript": [
              "window[\"678df53c-722a-11ef-9a0a-0242ac1c000c\"] = google.colab.output.setActiveOutputArea(window[\"678d55c8-722a-11ef-9a0a-0242ac1c000c\"]);\n",
              "//# sourceURL=js_6d6f7c17a1"
            ]
          },
          "metadata": {}
        },
        {
          "output_type": "stream",
          "name": "stdout",
          "text": [
            "\n",
            " \n",
            "\n"
          ]
        },
        {
          "output_type": "display_data",
          "data": {
            "text/plain": [
              "Button(description='5', style=ButtonStyle())"
            ],
            "application/vnd.jupyter.widget-view+json": {
              "version_major": 2,
              "version_minor": 0,
              "model_id": "cb28a55a07b84ceba971cfae692b34ee"
            }
          },
          "metadata": {}
        },
        {
          "output_type": "display_data",
          "data": {
            "text/plain": [
              "<IPython.core.display.Javascript object>"
            ],
            "application/javascript": [
              "window[\"67900e76-722a-11ef-9a0a-0242ac1c000c\"] = google.colab.output.setActiveOutputArea(window[\"678cffa6-722a-11ef-9a0a-0242ac1c000c\"]);\n",
              "//# sourceURL=js_59faf8cadc"
            ]
          },
          "metadata": {}
        },
        {
          "output_type": "display_data",
          "data": {
            "text/plain": [
              "<IPython.core.display.Javascript object>"
            ],
            "application/javascript": [
              "window[\"6792ab5e-722a-11ef-9a0a-0242ac1c000c\"] = google.colab.output.getActiveOutputArea();\n",
              "//# sourceURL=js_29125b8c2b"
            ]
          },
          "metadata": {}
        },
        {
          "output_type": "display_data",
          "data": {
            "text/plain": [
              "<IPython.core.display.Javascript object>"
            ],
            "application/javascript": [
              "window[\"67931684-722a-11ef-9a0a-0242ac1c000c\"] = document.querySelector(\"#id4-0-0\");\n",
              "//# sourceURL=js_c7bc31b1e1"
            ]
          },
          "metadata": {}
        },
        {
          "output_type": "display_data",
          "data": {
            "text/plain": [
              "<IPython.core.display.Javascript object>"
            ],
            "application/javascript": [
              "window[\"6793f478-722a-11ef-9a0a-0242ac1c000c\"] = google.colab.output.setActiveOutputArea(window[\"67931684-722a-11ef-9a0a-0242ac1c000c\"]);\n",
              "//# sourceURL=js_2fa32e4bb1"
            ]
          },
          "metadata": {}
        },
        {
          "output_type": "stream",
          "name": "stdout",
          "text": [
            "\n",
            " \n",
            "\n"
          ]
        },
        {
          "output_type": "display_data",
          "data": {
            "text/plain": [
              "Button(description='6', style=ButtonStyle())"
            ],
            "application/vnd.jupyter.widget-view+json": {
              "version_major": 2,
              "version_minor": 0,
              "model_id": "570257884a6a4f248668ef8003d07309"
            }
          },
          "metadata": {}
        },
        {
          "output_type": "display_data",
          "data": {
            "text/plain": [
              "<IPython.core.display.Javascript object>"
            ],
            "application/javascript": [
              "window[\"679617bc-722a-11ef-9a0a-0242ac1c000c\"] = google.colab.output.setActiveOutputArea(window[\"6792ab5e-722a-11ef-9a0a-0242ac1c000c\"]);\n",
              "//# sourceURL=js_3e0b1c3eb8"
            ]
          },
          "metadata": {}
        },
        {
          "output_type": "display_data",
          "data": {
            "text/plain": [
              "<IPython.core.display.Javascript object>"
            ],
            "application/javascript": [
              "window[\"6798d614-722a-11ef-9a0a-0242ac1c000c\"] = google.colab.output.getActiveOutputArea();\n",
              "//# sourceURL=js_cbb68f5d5c"
            ]
          },
          "metadata": {}
        },
        {
          "output_type": "display_data",
          "data": {
            "text/plain": [
              "<IPython.core.display.Javascript object>"
            ],
            "application/javascript": [
              "window[\"67992ed4-722a-11ef-9a0a-0242ac1c000c\"] = document.querySelector(\"#id4-0-1\");\n",
              "//# sourceURL=js_cb394b530f"
            ]
          },
          "metadata": {}
        },
        {
          "output_type": "display_data",
          "data": {
            "text/plain": [
              "<IPython.core.display.Javascript object>"
            ],
            "application/javascript": [
              "window[\"67998546-722a-11ef-9a0a-0242ac1c000c\"] = google.colab.output.setActiveOutputArea(window[\"67992ed4-722a-11ef-9a0a-0242ac1c000c\"]);\n",
              "//# sourceURL=js_f0c66b7b20"
            ]
          },
          "metadata": {}
        },
        {
          "output_type": "stream",
          "name": "stdout",
          "text": [
            "\n",
            " \n",
            "\n"
          ]
        },
        {
          "output_type": "display_data",
          "data": {
            "text/plain": [
              "Button(description='7', style=ButtonStyle())"
            ],
            "application/vnd.jupyter.widget-view+json": {
              "version_major": 2,
              "version_minor": 0,
              "model_id": "5195e20726a845f39e2550d206f712cb"
            }
          },
          "metadata": {}
        },
        {
          "output_type": "display_data",
          "data": {
            "text/plain": [
              "<IPython.core.display.Javascript object>"
            ],
            "application/javascript": [
              "window[\"679b223e-722a-11ef-9a0a-0242ac1c000c\"] = google.colab.output.setActiveOutputArea(window[\"6798d614-722a-11ef-9a0a-0242ac1c000c\"]);\n",
              "//# sourceURL=js_a080c20f7e"
            ]
          },
          "metadata": {}
        },
        {
          "output_type": "display_data",
          "data": {
            "text/plain": [
              "<IPython.core.display.Javascript object>"
            ],
            "application/javascript": [
              "window[\"679d4e1a-722a-11ef-9a0a-0242ac1c000c\"] = google.colab.output.getActiveOutputArea();\n",
              "//# sourceURL=js_348c025b7f"
            ]
          },
          "metadata": {}
        },
        {
          "output_type": "display_data",
          "data": {
            "text/plain": [
              "<IPython.core.display.Javascript object>"
            ],
            "application/javascript": [
              "window[\"679da338-722a-11ef-9a0a-0242ac1c000c\"] = document.querySelector(\"#id4-0-2\");\n",
              "//# sourceURL=js_95f8ae861d"
            ]
          },
          "metadata": {}
        },
        {
          "output_type": "display_data",
          "data": {
            "text/plain": [
              "<IPython.core.display.Javascript object>"
            ],
            "application/javascript": [
              "window[\"679e07ec-722a-11ef-9a0a-0242ac1c000c\"] = google.colab.output.setActiveOutputArea(window[\"679da338-722a-11ef-9a0a-0242ac1c000c\"]);\n",
              "//# sourceURL=js_b3b47c3533"
            ]
          },
          "metadata": {}
        },
        {
          "output_type": "stream",
          "name": "stdout",
          "text": [
            "\n",
            " \n",
            "\n"
          ]
        },
        {
          "output_type": "display_data",
          "data": {
            "text/plain": [
              "Button(description='8', style=ButtonStyle())"
            ],
            "application/vnd.jupyter.widget-view+json": {
              "version_major": 2,
              "version_minor": 0,
              "model_id": "036f229bea734b6abe9cccaddfb0ec54"
            }
          },
          "metadata": {}
        },
        {
          "output_type": "display_data",
          "data": {
            "text/plain": [
              "<IPython.core.display.Javascript object>"
            ],
            "application/javascript": [
              "window[\"679f7f8c-722a-11ef-9a0a-0242ac1c000c\"] = google.colab.output.setActiveOutputArea(window[\"679d4e1a-722a-11ef-9a0a-0242ac1c000c\"]);\n",
              "//# sourceURL=js_9d7b39ceee"
            ]
          },
          "metadata": {}
        }
      ]
    },
    {
      "cell_type": "markdown",
      "source": [
        "### 🎮 **Quantum Game States: The Next Level of Tic-Tac-Toe**\n",
        "\n",
        "Welcome to the world of **quantum game states**—where your tic-tac-toe board isn’t just a grid of squares, but a canvas for quantum possibilities! 🌌\n",
        "\n",
        "To help you visualize this, meet your quantum companion, **Quokka**:\n",
        "\n",
        "<div style=\"text-align: center;\">\n",
        "   <img src=\"https://www.dropbox.com/scl/fi/zofd2lwftd6johct9k1uy/whatdoesitdo.png?rlkey=p9jfnkq8zcnwrpwem38paiem7&dl=0&raw=1\" width=\"600\">\n",
        "</div>\n",
        "\n",
        "### 🔍 **How It Works**\n",
        "\n",
        "In quantum computing, you’re in control of two things: the **input program** and the **output bits**. But here’s the twist—what happens in between is pure quantum magic, hidden away in the qubits that Quokka processes. **You can't see qubits!** They're like the secret sauce of quantum computing—out of sight, but oh-so-powerful.\n",
        "\n",
        "### 🎲 **Quantum Tic-Tac-Toe**\n",
        "\n",
        "In this quantum version of tic-tac-toe, your **game state** isn’t just a static snapshot of X’s and O’s. Instead, it’s a living, breathing **quantum program** that evolves with each player’s move. The game only ends when you send your program to Quokka for resolution, revealing the outcome.\n",
        "\n",
        "*⚛ What’s different from classical tic-tac-toe?*\n",
        "\n",
        "- **Multiple Moves**: Players can play on the same square multiple times.\n",
        "- **Empty Squares**: Some squares might stay empty until the game is resolved.\n",
        "- **Measure to Win**: The game only concludes when a player decides to \"measure\"—collapsing the quantum state and determining the final board configuration.\n",
        "\n",
        "### 🎮 **Time to Play**\n",
        "\n",
        "Before we dive deeper into the quantum stuff, why not give it a spin?"
      ],
      "metadata": {
        "id": "kfY9j7iB4tan"
      }
    },
    {
      "cell_type": "code",
      "source": [
        "class Board:\n",
        "    \"\"\"\n",
        "    Represents a quantum tic-tac-toe board.\n",
        "\n",
        "    This class manages:\n",
        "      - OpenQASM code for quantum operations.\n",
        "      - Mapping of board cells to player moves.\n",
        "      - Win tracking for each player.\n",
        "      - Display and measurement of the quantum state.\n",
        "    \"\"\"\n",
        "\n",
        "    def __init__(self):\n",
        "        \"\"\"Initializes the quantum board.\"\"\"\n",
        "        # Start with basic OpenQASM setup\n",
        "        self.qc = \"\"\"\n",
        "        OPENQASM 2.0;\n",
        "        qreg q[9];\n",
        "        creg c[9];\n",
        "        \"\"\"\n",
        "        # State variables for current operation, target qubit, move history, and wins\n",
        "        self.function = ''  # 'X', 'O', 'SWAP', or empty\n",
        "        self.target = -1  # Index of the target qubit for SWAP operation\n",
        "        self.tab = []      # List of dictionaries for each cell {'default': index, 'player': ''}\n",
        "        self.winsX = 0     # Number of wins for player X\n",
        "        self.winsO = 0     # Number of wins for player O\n",
        "\n",
        "        # Initialize board state with Hadamard gates on all qubits\n",
        "        for idx in range(0, 9):\n",
        "            self.tab.append({'default': idx, 'player': ' '})\n",
        "            self.qc += 'h q[{}];'.format(idx)\n",
        "\n",
        "    def make_move(self, cell):\n",
        "        \"\"\"Applies a quantum gate based on the selected move and updates the board state.\"\"\"\n",
        "        if self.function == 'X':\n",
        "            self.qc += 'h q[{}];'.format(cell)\n",
        "            self.tab[int(cell)]['player'] += 'X - '\n",
        "        elif self.function == 'O':\n",
        "            self.qc += '''h q[{}];\n",
        "                          x q[{}];'''.format(cell,cell)\n",
        "            self.tab[int(cell)]['player'] += \"O - \"\n",
        "        elif self.function == 'SWAP' and self.target != cell:\n",
        "            if self.target == cell:\n",
        "                self.target = -1\n",
        "            else:\n",
        "                self.qc += 'swap q[{}], q[{}];'.format(cell,self.target)\n",
        "                self.tab[int(cell)]['player'] += \"S - \"\n",
        "                self.tab[int(self.target)]['player'] += \"S - \"\n",
        "\n",
        "    def display(self):\n",
        "        \"\"\"Prints the current OpenQASM code for the quantum board.\"\"\"\n",
        "        print(self.qc)\n",
        "\n",
        "    def measure(self):\n",
        "        \"\"\"Measures the quantum state, determines winners, and updates the classical board.\"\"\"\n",
        "        for idx in range(0,9):\n",
        "            self.qc += 'measure q[{}] -> c[{}];'.format(idx,idx)\n",
        "\n",
        "        output = send_to_the_quokka(self.qc)\n",
        "\n",
        "        for idx in range(0,9):\n",
        "            if output[9-1-idx] == '0':\n",
        "                self.tab[idx]['player'] = 'X'\n",
        "            else:\n",
        "                self.tab[idx]['player'] = 'O'\n",
        "        self.winsX = self.countWinners('X')\n",
        "        self.winsO = self.countWinners('O')\n",
        "\n",
        "    def countWinners(self, player):\n",
        "        \"\"\"Counts the number of winning combinations for a given player ('X' or 'O').\"\"\"\n",
        "        winners = ((0,1,2),(3,4,5),(6,7,8),(0,3,6),(1,4,7),(2,5,8),(0,4,8),(2,4,6))\n",
        "        wins = 0\n",
        "        for idx in range(len(winners)):\n",
        "            won = True\n",
        "            for jdx in range(len(winners[0])):\n",
        "                if not self.tab[winners[idx][jdx]]['player'] == player:\n",
        "                    won = False\n",
        "            if won:\n",
        "                wins = wins + 1\n",
        "        return wins\n",
        "\n",
        "    def new(self):\n",
        "        \"\"\"Resets the board for a new game.\"\"\"\n",
        "        self.tab.clear()\n",
        "        self.qc = \"\"\"\n",
        "        OPENQASM 2.0;\n",
        "        qreg q[9];\n",
        "        creg c[9];\n",
        "        \"\"\"\n",
        "        for idx in range(0,9):\n",
        "            self.tab.append({'default':str(idx), 'player':''})\n",
        "            self.qc += 'h q[{}];'.format(idx)\n",
        "\n",
        "class Game:\n",
        "    \"\"\"\n",
        "    Manages the user interface and interactions for the quantum tic-tac-toe game.\n",
        "    \"\"\"\n",
        "\n",
        "    def __init__(self):\n",
        "        \"\"\"Initializes the game interface.\"\"\"\n",
        "        self.selecting = False  # Flag to indicate if a SWAP target is being selected\n",
        "        self.board = Board()    # Create a new quantum tic-tac-toe board\n",
        "\n",
        "        # Create buttons for each cell of the board\n",
        "        self.boardbutton_list = []\n",
        "        for idx in range(0, 9):\n",
        "            button = Button(description=str(idx))\n",
        "            button.on_click(self.handle_game)  # Connect button clicks to the game handler\n",
        "            self.boardbutton_list.append(button)\n",
        "\n",
        "        # Create buttons for game functions (Measure, X, O, SWAP)\n",
        "        self.funcbutton_list = []\n",
        "        self.newButton('Measure')\n",
        "        self.newButton('X')\n",
        "        self.newButton('O')\n",
        "        self.newButton('SWAP')\n",
        "\n",
        "        # Initial display\n",
        "        self.printmenu()\n",
        "        self.printBoard()\n",
        "\n",
        "    def newButton(self, name):\n",
        "        \"\"\"Creates a new button with the given name and associates it with the game handler.\"\"\"\n",
        "        function = Button(description=name, layout=Layout(width='86px', height='30px'))\n",
        "        function.on_click(self.handle_game)\n",
        "        self.funcbutton_list.append(function)\n",
        "\n",
        "    def handle_game(self, b):\n",
        "        \"\"\"Handles button clicks and game logic.\"\"\"\n",
        "        try:\n",
        "            if b.description == 'Measure':\n",
        "                clear_output()\n",
        "                self.replay()  # Display the \"Replay\" button after measurement\n",
        "                self.board.measure()\n",
        "                self.scoreboard()\n",
        "                self.printBoard()\n",
        "            elif b.description == 'Replay':\n",
        "                clear_output()\n",
        "                self.board.new()\n",
        "                self.printmenu()\n",
        "                self.printBoard()\n",
        "            elif int(b.description) >= 0:  # A cell button was clicked\n",
        "                if self.selecting:  # If in SWAP mode, set the target qubit\n",
        "                    self.board.target = int(b.description)\n",
        "                else:  # Otherwise, make a move ('X' or 'O')\n",
        "                    clear_output()\n",
        "                    self.printmenu()\n",
        "                    self.board.make_move(int(b.description))\n",
        "                    self.printBoard()\n",
        "            self.selecting = False\n",
        "        except ValueError:  # A function button (X, O, SWAP) was clicked\n",
        "            self.board.function = b.description\n",
        "            self.selecting = False  # Reset selecting flag, except for SWAP\n",
        "            if self.board.function == 'SWAP':\n",
        "                self.selecting = True\n",
        "\n",
        "    def printmenu(self):\n",
        "        \"\"\"Prints the menu buttons for selecting move types.\"\"\"\n",
        "        grid = widgets.Grid(1, 4)  # Create a grid layout for the buttons\n",
        "        for (row, col) in grid:  # Iterate over the grid cells\n",
        "            display(self.funcbutton_list[col])  # Display each button in its cell\n",
        "\n",
        "    def scoreboard(self):\n",
        "        \"\"\"Prints the current win counts for each player.\"\"\"\n",
        "        print(\"X wins: \" + str(self.board.winsX) + \"  O wins: \" + str(self.board.winsO))\n",
        "\n",
        "    def replay(self):\n",
        "        \"\"\"Creates and displays the \"Replay\" button.\"\"\"\n",
        "        rep = Button(description=\"Replay\")\n",
        "        rep.on_click(self.handle_game)\n",
        "        display(rep)\n",
        "\n",
        "    def printBoard(self):\n",
        "        \"\"\"Prints the current state of the game board.\"\"\"\n",
        "        grid = widgets.Grid(1, 3, header_row=True, header_column=True)  # Grid for the board\n",
        "        for row in range(3):\n",
        "            for (useless, col) in grid:  # Iterate over the grid cells\n",
        "                print(\"\\n\"+self.board.tab[col + row * 3]['player']+\"\\n\")  # Display cell contents\n",
        "                display(self.boardbutton_list[col + row * 3])  # Display the cell button\n",
        "\n",
        "# Play the game!\n",
        "game = Game()"
      ],
      "metadata": {
        "id": "BXeaxBDNz452",
        "colab": {
          "base_uri": "https://localhost:8080/",
          "height": 310,
          "referenced_widgets": [
            "675d7a1a793146489baac2b3c5b3cfa1",
            "6ee32cae69e94fcead3c8ec1cf351d95",
            "a2f8b66e583b43ef81a484017b4b9914",
            "ea263e4de9904360b5016bc7cfc23e43",
            "a2337bd082b4476cb2087936fbf59747",
            "0cb9fdd1dc39405aa875ba8fb4eef45d",
            "995609148e944e25b50f84741d8805c0",
            "7d5bc575d5374229aeeb040a2606ac5d",
            "d9992a65755a4871a46400f7ef5648b0",
            "456d16d3202f46d285152e9a3840a0fb",
            "9a60038c75cc45238c4f1c9a46698551",
            "4206b1bdae1f4c679cba8a9c0fa6e9e0",
            "e7def426ee874ed3b976afdc95510951",
            "6e66683c12234398a56f03badf0064fe",
            "802c3f4472b141339ef9c9c1192dd7ba",
            "62e5eedbb0f04a28bb61f8b68526e1ec",
            "47b1d722ce7944f09dc3ddd92f7b3fb4",
            "698b32839f744ca7aef134f5b038b04f",
            "286dfa42115244d58a813ffbaf2e5a06",
            "80eae8ef03474bdaaae868fe8defd9ed",
            "fb6d22f69e7149f08f5dad42ebe2b443",
            "aefc0947ae634c8d98e37a07fa5e0b29",
            "68eea892d3d6432ca5763cc37479886b",
            "ff7930ffa030443480b520a8bcc161c6",
            "24da0646bb3c4f8e9e79a00b4a6ee529",
            "4a709b6f17184d25abf94933e2f7586f",
            "182d0d203d50426c89ddd6e731127d5a",
            "f3e8206fd1504899abfc200fcbacc8e6",
            "7546d65c1895499196dd803a06c90bde",
            "c9eaef6f2c6946329fdd701569d77880",
            "6d1e173c116a4ddaab1b1e6b2438dbc9",
            "dfd8f8e23c06471ab1a354ed7fd9b1db",
            "8b47528c906843e8be8c03aadbb37676",
            "e99bf2c1eecf48f3a3e8156d51420793",
            "992f95781c9448e3bfbed7cdea3a1eca",
            "3e00fe569721404b92665d12bd5ff71b",
            "d5af0be626b84769a66cd03bb1c3d230",
            "d0f721b6f14c4ca4bf1b26947cbaf32f",
            "3326516b4fdb43faa08616fc116feaeb",
            "54f40576dddf4bb3970da50bebdc5fec",
            "ffb98279a73543dd8631ae090a41614b",
            "8529a2afd9a24adc9d29c64432e59332"
          ]
        },
        "outputId": "35ac6b7f-120a-4692-b8ea-711a9f08636d"
      },
      "execution_count": null,
      "outputs": [
        {
          "output_type": "display_data",
          "data": {
            "text/plain": [
              "<IPython.core.display.HTML object>"
            ],
            "text/html": [
              "<style>\n",
              "       table#id36, #id36 > tbody > tr > th, #id36 > tbody > tr > td {\n",
              "         border: 1px solid lightgray;\n",
              "         border-collapse:collapse;\n",
              "         \n",
              "        }</style>"
            ]
          },
          "metadata": {}
        },
        {
          "output_type": "display_data",
          "data": {
            "text/plain": [
              "<IPython.core.display.HTML object>"
            ],
            "text/html": [
              "<table id=id36><tr><td id=id36-0-0></td><td id=id36-0-1></td><td id=id36-0-2></td><td id=id36-0-3></td></tr></table>"
            ]
          },
          "metadata": {}
        },
        {
          "output_type": "display_data",
          "data": {
            "text/plain": [
              "<IPython.core.display.Javascript object>"
            ],
            "application/javascript": [
              "window[\"783c8770-722c-11ef-9a0a-0242ac1c000c\"] = google.colab.output.getActiveOutputArea();\n",
              "//# sourceURL=js_62a3548da0"
            ]
          },
          "metadata": {}
        },
        {
          "output_type": "display_data",
          "data": {
            "text/plain": [
              "<IPython.core.display.Javascript object>"
            ],
            "application/javascript": [
              "window[\"783d0d4e-722c-11ef-9a0a-0242ac1c000c\"] = document.querySelector(\"#id36-0-0\");\n",
              "//# sourceURL=js_ddc0e9a603"
            ]
          },
          "metadata": {}
        },
        {
          "output_type": "display_data",
          "data": {
            "text/plain": [
              "<IPython.core.display.Javascript object>"
            ],
            "application/javascript": [
              "window[\"783e3a8e-722c-11ef-9a0a-0242ac1c000c\"] = google.colab.output.setActiveOutputArea(window[\"783d0d4e-722c-11ef-9a0a-0242ac1c000c\"]);\n",
              "//# sourceURL=js_6cde216d25"
            ]
          },
          "metadata": {}
        },
        {
          "output_type": "display_data",
          "data": {
            "text/plain": [
              "Button(description='Measure', layout=Layout(height='30px', width='86px'), style=ButtonStyle())"
            ],
            "application/vnd.jupyter.widget-view+json": {
              "version_major": 2,
              "version_minor": 0,
              "model_id": "675d7a1a793146489baac2b3c5b3cfa1"
            }
          },
          "metadata": {}
        },
        {
          "output_type": "display_data",
          "data": {
            "text/plain": [
              "<IPython.core.display.Javascript object>"
            ],
            "application/javascript": [
              "window[\"78410e58-722c-11ef-9a0a-0242ac1c000c\"] = google.colab.output.setActiveOutputArea(window[\"783c8770-722c-11ef-9a0a-0242ac1c000c\"]);\n",
              "//# sourceURL=js_7558058501"
            ]
          },
          "metadata": {}
        },
        {
          "output_type": "display_data",
          "data": {
            "text/plain": [
              "<IPython.core.display.Javascript object>"
            ],
            "application/javascript": [
              "window[\"7843a1f4-722c-11ef-9a0a-0242ac1c000c\"] = google.colab.output.getActiveOutputArea();\n",
              "//# sourceURL=js_2482d3cb36"
            ]
          },
          "metadata": {}
        },
        {
          "output_type": "display_data",
          "data": {
            "text/plain": [
              "<IPython.core.display.Javascript object>"
            ],
            "application/javascript": [
              "window[\"7843fd0c-722c-11ef-9a0a-0242ac1c000c\"] = document.querySelector(\"#id36-0-1\");\n",
              "//# sourceURL=js_2a6e95699a"
            ]
          },
          "metadata": {}
        },
        {
          "output_type": "display_data",
          "data": {
            "text/plain": [
              "<IPython.core.display.Javascript object>"
            ],
            "application/javascript": [
              "window[\"784453b0-722c-11ef-9a0a-0242ac1c000c\"] = google.colab.output.setActiveOutputArea(window[\"7843fd0c-722c-11ef-9a0a-0242ac1c000c\"]);\n",
              "//# sourceURL=js_aff7b28fef"
            ]
          },
          "metadata": {}
        },
        {
          "output_type": "display_data",
          "data": {
            "text/plain": [
              "Button(description='X', layout=Layout(height='30px', width='86px'), style=ButtonStyle())"
            ],
            "application/vnd.jupyter.widget-view+json": {
              "version_major": 2,
              "version_minor": 0,
              "model_id": "ea263e4de9904360b5016bc7cfc23e43"
            }
          },
          "metadata": {}
        },
        {
          "output_type": "display_data",
          "data": {
            "text/plain": [
              "<IPython.core.display.Javascript object>"
            ],
            "application/javascript": [
              "window[\"78472496-722c-11ef-9a0a-0242ac1c000c\"] = google.colab.output.setActiveOutputArea(window[\"7843a1f4-722c-11ef-9a0a-0242ac1c000c\"]);\n",
              "//# sourceURL=js_3adc0412a2"
            ]
          },
          "metadata": {}
        },
        {
          "output_type": "display_data",
          "data": {
            "text/plain": [
              "<IPython.core.display.Javascript object>"
            ],
            "application/javascript": [
              "window[\"784951e4-722c-11ef-9a0a-0242ac1c000c\"] = google.colab.output.getActiveOutputArea();\n",
              "//# sourceURL=js_1103d36cb8"
            ]
          },
          "metadata": {}
        },
        {
          "output_type": "display_data",
          "data": {
            "text/plain": [
              "<IPython.core.display.Javascript object>"
            ],
            "application/javascript": [
              "window[\"7849b274-722c-11ef-9a0a-0242ac1c000c\"] = document.querySelector(\"#id36-0-2\");\n",
              "//# sourceURL=js_91e26fcef4"
            ]
          },
          "metadata": {}
        },
        {
          "output_type": "display_data",
          "data": {
            "text/plain": [
              "<IPython.core.display.Javascript object>"
            ],
            "application/javascript": [
              "window[\"784a0f6c-722c-11ef-9a0a-0242ac1c000c\"] = google.colab.output.setActiveOutputArea(window[\"7849b274-722c-11ef-9a0a-0242ac1c000c\"]);\n",
              "//# sourceURL=js_958a24368e"
            ]
          },
          "metadata": {}
        },
        {
          "output_type": "display_data",
          "data": {
            "text/plain": [
              "Button(description='O', layout=Layout(height='30px', width='86px'), style=ButtonStyle())"
            ],
            "application/vnd.jupyter.widget-view+json": {
              "version_major": 2,
              "version_minor": 0,
              "model_id": "995609148e944e25b50f84741d8805c0"
            }
          },
          "metadata": {}
        },
        {
          "output_type": "display_data",
          "data": {
            "text/plain": [
              "<IPython.core.display.Javascript object>"
            ],
            "application/javascript": [
              "window[\"784b6f38-722c-11ef-9a0a-0242ac1c000c\"] = google.colab.output.setActiveOutputArea(window[\"784951e4-722c-11ef-9a0a-0242ac1c000c\"]);\n",
              "//# sourceURL=js_ac3b5434ce"
            ]
          },
          "metadata": {}
        },
        {
          "output_type": "display_data",
          "data": {
            "text/plain": [
              "<IPython.core.display.Javascript object>"
            ],
            "application/javascript": [
              "window[\"784d5514-722c-11ef-9a0a-0242ac1c000c\"] = google.colab.output.getActiveOutputArea();\n",
              "//# sourceURL=js_c9126adb5d"
            ]
          },
          "metadata": {}
        },
        {
          "output_type": "display_data",
          "data": {
            "text/plain": [
              "<IPython.core.display.Javascript object>"
            ],
            "application/javascript": [
              "window[\"784de466-722c-11ef-9a0a-0242ac1c000c\"] = document.querySelector(\"#id36-0-3\");\n",
              "//# sourceURL=js_00482543aa"
            ]
          },
          "metadata": {}
        },
        {
          "output_type": "display_data",
          "data": {
            "text/plain": [
              "<IPython.core.display.Javascript object>"
            ],
            "application/javascript": [
              "window[\"784e3556-722c-11ef-9a0a-0242ac1c000c\"] = google.colab.output.setActiveOutputArea(window[\"784de466-722c-11ef-9a0a-0242ac1c000c\"]);\n",
              "//# sourceURL=js_7fe7049d69"
            ]
          },
          "metadata": {}
        },
        {
          "output_type": "display_data",
          "data": {
            "text/plain": [
              "Button(description='SWAP', layout=Layout(height='30px', width='86px'), style=ButtonStyle())"
            ],
            "application/vnd.jupyter.widget-view+json": {
              "version_major": 2,
              "version_minor": 0,
              "model_id": "456d16d3202f46d285152e9a3840a0fb"
            }
          },
          "metadata": {}
        },
        {
          "output_type": "display_data",
          "data": {
            "text/plain": [
              "<IPython.core.display.Javascript object>"
            ],
            "application/javascript": [
              "window[\"784f95cc-722c-11ef-9a0a-0242ac1c000c\"] = google.colab.output.setActiveOutputArea(window[\"784d5514-722c-11ef-9a0a-0242ac1c000c\"]);\n",
              "//# sourceURL=js_39a7aa8acd"
            ]
          },
          "metadata": {}
        },
        {
          "output_type": "display_data",
          "data": {
            "text/plain": [
              "<IPython.core.display.HTML object>"
            ],
            "text/html": [
              "<style>\n",
              "       table#id38, #id38 > tbody > tr > th, #id38 > tbody > tr > td {\n",
              "         border: 1px solid lightgray;\n",
              "         border-collapse:collapse;\n",
              "         \n",
              "        }</style>"
            ]
          },
          "metadata": {}
        },
        {
          "output_type": "display_data",
          "data": {
            "text/plain": [
              "<IPython.core.display.HTML object>"
            ],
            "text/html": [
              "<table id=id38><tr><th id=id38-0-0></th><th id=id38-0-1></th><th id=id38-0-2></th></tr></table>"
            ]
          },
          "metadata": {}
        },
        {
          "output_type": "display_data",
          "data": {
            "text/plain": [
              "<IPython.core.display.Javascript object>"
            ],
            "application/javascript": [
              "window[\"7853557c-722c-11ef-9a0a-0242ac1c000c\"] = google.colab.output.getActiveOutputArea();\n",
              "//# sourceURL=js_006a0d8c3e"
            ]
          },
          "metadata": {}
        },
        {
          "output_type": "display_data",
          "data": {
            "text/plain": [
              "<IPython.core.display.Javascript object>"
            ],
            "application/javascript": [
              "window[\"7853ae32-722c-11ef-9a0a-0242ac1c000c\"] = document.querySelector(\"#id38-0-0\");\n",
              "//# sourceURL=js_d087c80453"
            ]
          },
          "metadata": {}
        },
        {
          "output_type": "display_data",
          "data": {
            "text/plain": [
              "<IPython.core.display.Javascript object>"
            ],
            "application/javascript": [
              "window[\"785407c4-722c-11ef-9a0a-0242ac1c000c\"] = google.colab.output.setActiveOutputArea(window[\"7853ae32-722c-11ef-9a0a-0242ac1c000c\"]);\n",
              "//# sourceURL=js_e315f14bc3"
            ]
          },
          "metadata": {}
        },
        {
          "output_type": "stream",
          "name": "stdout",
          "text": [
            "\n",
            "\n",
            "\n"
          ]
        },
        {
          "output_type": "display_data",
          "data": {
            "text/plain": [
              "Button(description='0', style=ButtonStyle())"
            ],
            "application/vnd.jupyter.widget-view+json": {
              "version_major": 2,
              "version_minor": 0,
              "model_id": "e7def426ee874ed3b976afdc95510951"
            }
          },
          "metadata": {}
        },
        {
          "output_type": "display_data",
          "data": {
            "text/plain": [
              "<IPython.core.display.Javascript object>"
            ],
            "application/javascript": [
              "window[\"7855b3da-722c-11ef-9a0a-0242ac1c000c\"] = google.colab.output.setActiveOutputArea(window[\"7853557c-722c-11ef-9a0a-0242ac1c000c\"]);\n",
              "//# sourceURL=js_5ffe8511e3"
            ]
          },
          "metadata": {}
        },
        {
          "output_type": "display_data",
          "data": {
            "text/plain": [
              "<IPython.core.display.Javascript object>"
            ],
            "application/javascript": [
              "window[\"78578e1c-722c-11ef-9a0a-0242ac1c000c\"] = google.colab.output.getActiveOutputArea();\n",
              "//# sourceURL=js_e3fdeb3b46"
            ]
          },
          "metadata": {}
        },
        {
          "output_type": "display_data",
          "data": {
            "text/plain": [
              "<IPython.core.display.Javascript object>"
            ],
            "application/javascript": [
              "window[\"7857e538-722c-11ef-9a0a-0242ac1c000c\"] = document.querySelector(\"#id38-0-1\");\n",
              "//# sourceURL=js_af96b2f799"
            ]
          },
          "metadata": {}
        },
        {
          "output_type": "display_data",
          "data": {
            "text/plain": [
              "<IPython.core.display.Javascript object>"
            ],
            "application/javascript": [
              "window[\"7858a7b6-722c-11ef-9a0a-0242ac1c000c\"] = google.colab.output.setActiveOutputArea(window[\"7857e538-722c-11ef-9a0a-0242ac1c000c\"]);\n",
              "//# sourceURL=js_b0b298e02d"
            ]
          },
          "metadata": {}
        },
        {
          "output_type": "stream",
          "name": "stdout",
          "text": [
            "\n",
            "\n",
            "\n"
          ]
        },
        {
          "output_type": "display_data",
          "data": {
            "text/plain": [
              "Button(description='1', style=ButtonStyle())"
            ],
            "application/vnd.jupyter.widget-view+json": {
              "version_major": 2,
              "version_minor": 0,
              "model_id": "62e5eedbb0f04a28bb61f8b68526e1ec"
            }
          },
          "metadata": {}
        },
        {
          "output_type": "display_data",
          "data": {
            "text/plain": [
              "<IPython.core.display.Javascript object>"
            ],
            "application/javascript": [
              "window[\"785a60ec-722c-11ef-9a0a-0242ac1c000c\"] = google.colab.output.setActiveOutputArea(window[\"78578e1c-722c-11ef-9a0a-0242ac1c000c\"]);\n",
              "//# sourceURL=js_b2a021bae5"
            ]
          },
          "metadata": {}
        },
        {
          "output_type": "display_data",
          "data": {
            "text/plain": [
              "<IPython.core.display.Javascript object>"
            ],
            "application/javascript": [
              "window[\"785cc77e-722c-11ef-9a0a-0242ac1c000c\"] = google.colab.output.getActiveOutputArea();\n",
              "//# sourceURL=js_566497a1e4"
            ]
          },
          "metadata": {}
        },
        {
          "output_type": "display_data",
          "data": {
            "text/plain": [
              "<IPython.core.display.Javascript object>"
            ],
            "application/javascript": [
              "window[\"785d4622-722c-11ef-9a0a-0242ac1c000c\"] = document.querySelector(\"#id38-0-2\");\n",
              "//# sourceURL=js_4c13dad883"
            ]
          },
          "metadata": {}
        },
        {
          "output_type": "display_data",
          "data": {
            "text/plain": [
              "<IPython.core.display.Javascript object>"
            ],
            "application/javascript": [
              "window[\"785da3ce-722c-11ef-9a0a-0242ac1c000c\"] = google.colab.output.setActiveOutputArea(window[\"785d4622-722c-11ef-9a0a-0242ac1c000c\"]);\n",
              "//# sourceURL=js_a0f22d5fd4"
            ]
          },
          "metadata": {}
        },
        {
          "output_type": "stream",
          "name": "stdout",
          "text": [
            "\n",
            "\n",
            "\n"
          ]
        },
        {
          "output_type": "display_data",
          "data": {
            "text/plain": [
              "Button(description='2', style=ButtonStyle())"
            ],
            "application/vnd.jupyter.widget-view+json": {
              "version_major": 2,
              "version_minor": 0,
              "model_id": "286dfa42115244d58a813ffbaf2e5a06"
            }
          },
          "metadata": {}
        },
        {
          "output_type": "display_data",
          "data": {
            "text/plain": [
              "<IPython.core.display.Javascript object>"
            ],
            "application/javascript": [
              "window[\"785f3446-722c-11ef-9a0a-0242ac1c000c\"] = google.colab.output.setActiveOutputArea(window[\"785cc77e-722c-11ef-9a0a-0242ac1c000c\"]);\n",
              "//# sourceURL=js_e24e074b7c"
            ]
          },
          "metadata": {}
        },
        {
          "output_type": "display_data",
          "data": {
            "text/plain": [
              "<IPython.core.display.Javascript object>"
            ],
            "application/javascript": [
              "window[\"7861cbfc-722c-11ef-9a0a-0242ac1c000c\"] = google.colab.output.getActiveOutputArea();\n",
              "//# sourceURL=js_f2b578d4c5"
            ]
          },
          "metadata": {}
        },
        {
          "output_type": "display_data",
          "data": {
            "text/plain": [
              "<IPython.core.display.Javascript object>"
            ],
            "application/javascript": [
              "window[\"786224ee-722c-11ef-9a0a-0242ac1c000c\"] = document.querySelector(\"#id38-0-0\");\n",
              "//# sourceURL=js_296389b5fc"
            ]
          },
          "metadata": {}
        },
        {
          "output_type": "display_data",
          "data": {
            "text/plain": [
              "<IPython.core.display.Javascript object>"
            ],
            "application/javascript": [
              "window[\"78627c8c-722c-11ef-9a0a-0242ac1c000c\"] = google.colab.output.setActiveOutputArea(window[\"786224ee-722c-11ef-9a0a-0242ac1c000c\"]);\n",
              "//# sourceURL=js_f4c830be0b"
            ]
          },
          "metadata": {}
        },
        {
          "output_type": "stream",
          "name": "stdout",
          "text": [
            "\n",
            "\n",
            "\n"
          ]
        },
        {
          "output_type": "display_data",
          "data": {
            "text/plain": [
              "Button(description='3', style=ButtonStyle())"
            ],
            "application/vnd.jupyter.widget-view+json": {
              "version_major": 2,
              "version_minor": 0,
              "model_id": "aefc0947ae634c8d98e37a07fa5e0b29"
            }
          },
          "metadata": {}
        },
        {
          "output_type": "display_data",
          "data": {
            "text/plain": [
              "<IPython.core.display.Javascript object>"
            ],
            "application/javascript": [
              "window[\"7864dc34-722c-11ef-9a0a-0242ac1c000c\"] = google.colab.output.setActiveOutputArea(window[\"7861cbfc-722c-11ef-9a0a-0242ac1c000c\"]);\n",
              "//# sourceURL=js_ea99c3b62f"
            ]
          },
          "metadata": {}
        },
        {
          "output_type": "display_data",
          "data": {
            "text/plain": [
              "<IPython.core.display.Javascript object>"
            ],
            "application/javascript": [
              "window[\"78679a64-722c-11ef-9a0a-0242ac1c000c\"] = google.colab.output.getActiveOutputArea();\n",
              "//# sourceURL=js_0a2168f5b6"
            ]
          },
          "metadata": {}
        },
        {
          "output_type": "display_data",
          "data": {
            "text/plain": [
              "<IPython.core.display.Javascript object>"
            ],
            "application/javascript": [
              "window[\"7868748e-722c-11ef-9a0a-0242ac1c000c\"] = document.querySelector(\"#id38-0-1\");\n",
              "//# sourceURL=js_237c3cf3a6"
            ]
          },
          "metadata": {}
        },
        {
          "output_type": "display_data",
          "data": {
            "text/plain": [
              "<IPython.core.display.Javascript object>"
            ],
            "application/javascript": [
              "window[\"7868da00-722c-11ef-9a0a-0242ac1c000c\"] = google.colab.output.setActiveOutputArea(window[\"7868748e-722c-11ef-9a0a-0242ac1c000c\"]);\n",
              "//# sourceURL=js_b39ad87a7f"
            ]
          },
          "metadata": {}
        },
        {
          "output_type": "stream",
          "name": "stdout",
          "text": [
            "\n",
            "\n",
            "\n"
          ]
        },
        {
          "output_type": "display_data",
          "data": {
            "text/plain": [
              "Button(description='4', style=ButtonStyle())"
            ],
            "application/vnd.jupyter.widget-view+json": {
              "version_major": 2,
              "version_minor": 0,
              "model_id": "24da0646bb3c4f8e9e79a00b4a6ee529"
            }
          },
          "metadata": {}
        },
        {
          "output_type": "display_data",
          "data": {
            "text/plain": [
              "<IPython.core.display.Javascript object>"
            ],
            "application/javascript": [
              "window[\"786ac8ec-722c-11ef-9a0a-0242ac1c000c\"] = google.colab.output.setActiveOutputArea(window[\"78679a64-722c-11ef-9a0a-0242ac1c000c\"]);\n",
              "//# sourceURL=js_f12a70b955"
            ]
          },
          "metadata": {}
        },
        {
          "output_type": "display_data",
          "data": {
            "text/plain": [
              "<IPython.core.display.Javascript object>"
            ],
            "application/javascript": [
              "window[\"786cf478-722c-11ef-9a0a-0242ac1c000c\"] = google.colab.output.getActiveOutputArea();\n",
              "//# sourceURL=js_b0dc02cc59"
            ]
          },
          "metadata": {}
        },
        {
          "output_type": "display_data",
          "data": {
            "text/plain": [
              "<IPython.core.display.Javascript object>"
            ],
            "application/javascript": [
              "window[\"786d4bb2-722c-11ef-9a0a-0242ac1c000c\"] = document.querySelector(\"#id38-0-2\");\n",
              "//# sourceURL=js_1a8457cefa"
            ]
          },
          "metadata": {}
        },
        {
          "output_type": "display_data",
          "data": {
            "text/plain": [
              "<IPython.core.display.Javascript object>"
            ],
            "application/javascript": [
              "window[\"786da8c8-722c-11ef-9a0a-0242ac1c000c\"] = google.colab.output.setActiveOutputArea(window[\"786d4bb2-722c-11ef-9a0a-0242ac1c000c\"]);\n",
              "//# sourceURL=js_424da14673"
            ]
          },
          "metadata": {}
        },
        {
          "output_type": "stream",
          "name": "stdout",
          "text": [
            "\n",
            "\n",
            "\n"
          ]
        },
        {
          "output_type": "display_data",
          "data": {
            "text/plain": [
              "Button(description='5', style=ButtonStyle())"
            ],
            "application/vnd.jupyter.widget-view+json": {
              "version_major": 2,
              "version_minor": 0,
              "model_id": "f3e8206fd1504899abfc200fcbacc8e6"
            }
          },
          "metadata": {}
        },
        {
          "output_type": "display_data",
          "data": {
            "text/plain": [
              "<IPython.core.display.Javascript object>"
            ],
            "application/javascript": [
              "window[\"786f2e50-722c-11ef-9a0a-0242ac1c000c\"] = google.colab.output.setActiveOutputArea(window[\"786cf478-722c-11ef-9a0a-0242ac1c000c\"]);\n",
              "//# sourceURL=js_7cdd37586f"
            ]
          },
          "metadata": {}
        },
        {
          "output_type": "display_data",
          "data": {
            "text/plain": [
              "<IPython.core.display.Javascript object>"
            ],
            "application/javascript": [
              "window[\"78715478-722c-11ef-9a0a-0242ac1c000c\"] = google.colab.output.getActiveOutputArea();\n",
              "//# sourceURL=js_5e5f4ae4ab"
            ]
          },
          "metadata": {}
        },
        {
          "output_type": "display_data",
          "data": {
            "text/plain": [
              "<IPython.core.display.Javascript object>"
            ],
            "application/javascript": [
              "window[\"787209ea-722c-11ef-9a0a-0242ac1c000c\"] = document.querySelector(\"#id38-0-0\");\n",
              "//# sourceURL=js_482084f808"
            ]
          },
          "metadata": {}
        },
        {
          "output_type": "display_data",
          "data": {
            "text/plain": [
              "<IPython.core.display.Javascript object>"
            ],
            "application/javascript": [
              "window[\"78727510-722c-11ef-9a0a-0242ac1c000c\"] = google.colab.output.setActiveOutputArea(window[\"787209ea-722c-11ef-9a0a-0242ac1c000c\"]);\n",
              "//# sourceURL=js_85f3770f7b"
            ]
          },
          "metadata": {}
        },
        {
          "output_type": "stream",
          "name": "stdout",
          "text": [
            "\n",
            "\n",
            "\n"
          ]
        },
        {
          "output_type": "display_data",
          "data": {
            "text/plain": [
              "Button(description='6', style=ButtonStyle())"
            ],
            "application/vnd.jupyter.widget-view+json": {
              "version_major": 2,
              "version_minor": 0,
              "model_id": "6d1e173c116a4ddaab1b1e6b2438dbc9"
            }
          },
          "metadata": {}
        },
        {
          "output_type": "display_data",
          "data": {
            "text/plain": [
              "<IPython.core.display.Javascript object>"
            ],
            "application/javascript": [
              "window[\"78747f7c-722c-11ef-9a0a-0242ac1c000c\"] = google.colab.output.setActiveOutputArea(window[\"78715478-722c-11ef-9a0a-0242ac1c000c\"]);\n",
              "//# sourceURL=js_7e922327ce"
            ]
          },
          "metadata": {}
        },
        {
          "output_type": "display_data",
          "data": {
            "text/plain": [
              "<IPython.core.display.Javascript object>"
            ],
            "application/javascript": [
              "window[\"7877d7b2-722c-11ef-9a0a-0242ac1c000c\"] = google.colab.output.getActiveOutputArea();\n",
              "//# sourceURL=js_db269d2163"
            ]
          },
          "metadata": {}
        },
        {
          "output_type": "display_data",
          "data": {
            "text/plain": [
              "<IPython.core.display.Javascript object>"
            ],
            "application/javascript": [
              "window[\"78785b56-722c-11ef-9a0a-0242ac1c000c\"] = document.querySelector(\"#id38-0-1\");\n",
              "//# sourceURL=js_4fcc0d3afb"
            ]
          },
          "metadata": {}
        },
        {
          "output_type": "display_data",
          "data": {
            "text/plain": [
              "<IPython.core.display.Javascript object>"
            ],
            "application/javascript": [
              "window[\"787955c4-722c-11ef-9a0a-0242ac1c000c\"] = google.colab.output.setActiveOutputArea(window[\"78785b56-722c-11ef-9a0a-0242ac1c000c\"]);\n",
              "//# sourceURL=js_468be925e0"
            ]
          },
          "metadata": {}
        },
        {
          "output_type": "stream",
          "name": "stdout",
          "text": [
            "\n",
            "\n",
            "\n"
          ]
        },
        {
          "output_type": "display_data",
          "data": {
            "text/plain": [
              "Button(description='7', style=ButtonStyle())"
            ],
            "application/vnd.jupyter.widget-view+json": {
              "version_major": 2,
              "version_minor": 0,
              "model_id": "e99bf2c1eecf48f3a3e8156d51420793"
            }
          },
          "metadata": {}
        },
        {
          "output_type": "display_data",
          "data": {
            "text/plain": [
              "<IPython.core.display.Javascript object>"
            ],
            "application/javascript": [
              "window[\"787b743a-722c-11ef-9a0a-0242ac1c000c\"] = google.colab.output.setActiveOutputArea(window[\"7877d7b2-722c-11ef-9a0a-0242ac1c000c\"]);\n",
              "//# sourceURL=js_7a66dc71c0"
            ]
          },
          "metadata": {}
        },
        {
          "output_type": "display_data",
          "data": {
            "text/plain": [
              "<IPython.core.display.Javascript object>"
            ],
            "application/javascript": [
              "window[\"787d24ce-722c-11ef-9a0a-0242ac1c000c\"] = google.colab.output.getActiveOutputArea();\n",
              "//# sourceURL=js_2902383c40"
            ]
          },
          "metadata": {}
        },
        {
          "output_type": "display_data",
          "data": {
            "text/plain": [
              "<IPython.core.display.Javascript object>"
            ],
            "application/javascript": [
              "window[\"787d7eb0-722c-11ef-9a0a-0242ac1c000c\"] = document.querySelector(\"#id38-0-2\");\n",
              "//# sourceURL=js_4f7134bae3"
            ]
          },
          "metadata": {}
        },
        {
          "output_type": "display_data",
          "data": {
            "text/plain": [
              "<IPython.core.display.Javascript object>"
            ],
            "application/javascript": [
              "window[\"787dda04-722c-11ef-9a0a-0242ac1c000c\"] = google.colab.output.setActiveOutputArea(window[\"787d7eb0-722c-11ef-9a0a-0242ac1c000c\"]);\n",
              "//# sourceURL=js_f310c68817"
            ]
          },
          "metadata": {}
        },
        {
          "output_type": "stream",
          "name": "stdout",
          "text": [
            "\n",
            "\n",
            "\n"
          ]
        },
        {
          "output_type": "display_data",
          "data": {
            "text/plain": [
              "Button(description='8', style=ButtonStyle())"
            ],
            "application/vnd.jupyter.widget-view+json": {
              "version_major": 2,
              "version_minor": 0,
              "model_id": "d5af0be626b84769a66cd03bb1c3d230"
            }
          },
          "metadata": {}
        },
        {
          "output_type": "display_data",
          "data": {
            "text/plain": [
              "<IPython.core.display.Javascript object>"
            ],
            "application/javascript": [
              "window[\"787fb054-722c-11ef-9a0a-0242ac1c000c\"] = google.colab.output.setActiveOutputArea(window[\"787d24ce-722c-11ef-9a0a-0242ac1c000c\"]);\n",
              "//# sourceURL=js_0df2f43242"
            ]
          },
          "metadata": {}
        }
      ]
    },
    {
      "cell_type": "markdown",
      "source": [
        "### 🎭 **Is It Really Quantum?**\n",
        "\n",
        "So, you just played a game that ran on a quantum computer. Pretty cool, right? But here’s a question: **Did it really feel quantum?** 🤔\n",
        "\n",
        "You might be thinking, \"Well, it ran on a quantum computer, so it must be quantum, right?\" True—but let’s dive deeper into this idea.\n",
        "\n",
        "### 🔄 **Classical Physics: A Subset of Quantum Physics**\n",
        "\n",
        "Here’s a mind-bending perspective: **classical physics, including computation and games, is actually a subset of quantum physics.** This means that everything we consider classical—like the bits in your computer, or even a regular game of tic-tac-toe—exists within the broader, richer framework of quantum mechanics.\n",
        "\n",
        "Think of it this way:\n",
        "\n",
        "- **All is Quantum**: The entire universe, including all its classical aspects, operates under the rules of quantum physics.\n",
        "- **Classical within Quantum**: Some processes or states are classical, which means they behave predictably in ways we’re used to—like bits flipping between 0 and 1.\n",
        "\n",
        "### 💡 **Classical Games on Quantum Computers**\n",
        "\n",
        "So, when you run a game on a quantum computer, it might still behave **classically**. In other words, you could have achieved the same outcome using a regular digital computer. It’s only when we start leveraging the **quantum properties**—like superposition, entanglement, and interference—that we enter truly quantum territory.\n",
        "\n",
        "### 📊 **Qubits: More Than Just Bits**\n",
        "\n",
        "Now, let’s get a bit more technical. Every qubit in a quantum computer carries at least as much information as a classical bit. But qubits can do so much more—they can exist in states that are not just `0` or `1`, but **superposition** states, and they can be **entangled** with other qubits in ways that classical bits could never be.\n",
        "\n",
        "### 🔍 **Let’s Explore Quantum Power**\n",
        "\n",
        "In the next sections, we’ll dive into how we can push the boundaries of our game, moving from classical to quantum. We’ll explore how to harness the full potential of qubits, making the game not just run on a quantum computer, but also **feel** truly quantum.\n",
        "\n",
        "Get ready to unlock the quantum potential! 🧠✨\n"
      ],
      "metadata": {
        "id": "zDfSrpVN9sKU"
      }
    },
    {
      "cell_type": "markdown",
      "source": [
        "---\n",
        "## 🧠 **Quantum 101**\n",
        "\n",
        "Before we jump into the quantum version of our game, let's take a moment to understand the basics of **qubits** and **superposition**—the building blocks of quantum computing. 🌟\n",
        "\n",
        "### 💡 **The Qubit**\n",
        "\n",
        "A **qubit** is the quantum version of a classical bit, but with some fascinating twists! Instead of just being `0` or `1`, a qubit can be represented with a combination of both. Mathematically, a qubit is represented by a two-dimensional vector; here are some examples:\n",
        "\n",
        "$$\n",
        "\\pmatrix{1\\\\0}, \\pmatrix{0\\\\1}, \\pmatrix{\\frac{1}{\\sqrt2}\\\\ \\frac{1}{\\sqrt2}}, \\pmatrix{\\frac{1}{\\sqrt2}\\\\ -\\frac{1}{\\sqrt2}}, \\pmatrix{0\\\\ e^{i\\frac{\\pi}{2}}}, \\ldots\n",
        "$$\n",
        "\n",
        "Some things to notice:\n",
        "* The numbers can be **negative**;\n",
        "* The numbers can be **complex** (i.e., they can use the imaginary number $i = \\sqrt{-1}$);\n",
        "* The length of the vector is always **1**.\n",
        "\n",
        "If we represent the numbers by variables $\\alpha$ and $\\beta$, then:\n",
        "\n",
        "$$\n",
        "\\text{Length} = |\\alpha|^2 + |\\beta|^2 = 1.\n",
        "$$\n",
        "\n",
        "### 🔢 **The Bit**\n",
        "\n",
        "You’re already familiar with **bits** as the basic unit of classical information, typically represented as `0` or `1`. Any two mutually exclusive possibilities can represent a bit, for example:\n",
        "\n",
        "$$\n",
        "\\pmatrix{1\\\\0} \\text{ and } \\pmatrix{0\\\\1}.\n",
        "$$\n",
        "\n",
        "In quantum mechanics, these correspond to the states:\n",
        "\n",
        "$$\n",
        "|0\\rangle = \\pmatrix{1\\\\0} \\quad \\text{and} \\quad |1\\rangle = \\pmatrix{0\\\\1},\n",
        "$$\n",
        "\n",
        "which are called **\"computational states\"** in quantum language.\n",
        "\n",
        "In quantum notation, the symbol $|\\text{label}\\rangle$ is just a fancy way to refer to vectors. This is called **\"ket\"** or **\"Dirac notation\"**. For quantum computation, vectors and \"states\" are synonymous.\n",
        "\n",
        "**It’s usually assumed that qubits in quantum computations start in the state $|0\\rangle$.**\n",
        "\n",
        "### 🌐 **Superposition**\n",
        "\n",
        "Unlike a classical bit, a qubit can be in a state called **superposition**, where it’s a blend of `0` and `1`. Any qubit state that isn’t purely $|0\\rangle$ or $|1\\rangle$ is in superposition. Here’s how it works:\n",
        "\n",
        "$$\n",
        "\\pmatrix{\\alpha \\\\ \\beta} = \\pmatrix{\\alpha \\\\ 0} + \\pmatrix{0 \\\\ \\beta} = \\alpha \\pmatrix{1 \\\\ 0} + \\beta \\pmatrix{0 \\\\ 1}.\n",
        "$$\n",
        "\n",
        "In quantum notation:\n",
        "\n",
        "$$\n",
        "|\\psi\\rangle = \\alpha|0\\rangle + \\beta|1\\rangle.\n",
        "$$\n",
        "\n",
        "This state isn’t just `0` or `1`; it’s a combination that can represent both at the same time! But don’t be fooled—this \"two places at once\" analogy can be misleading. The state is singular; it’s just **$|\\psi\\rangle$**.\n",
        "\n",
        "### ✍️ **Writing Qubits**\n",
        "\n",
        "Imagine a classical computer with a 4-bit memory:\n",
        "\n",
        "$$\n",
        "b_0 b_1 b_2 b_3,\n",
        "$$\n",
        "\n",
        "where each bit `$b$` can be `0` or `1`. Usually, we start with all bits in the state `0000`. To encode a different state, like `0101`, we perform logic operations (like `NOT`) on specific bits.\n",
        "\n",
        "In quantum computing, we do something similar. All qubits start in the state $|0\\rangle$. To encode quantum data, we apply **quantum logic operations** to these qubits.\n",
        "\n",
        "One such operation is **$X$**, which changes $|0\\rangle$ to $|1\\rangle$ and vice versa. But there are many more quantum operations you’ll hopefully encounter soon! 💫\n",
        "\n",
        "### 👀 **Reading Qubits**\n",
        "\n",
        "Here’s the catch with quantum computing: **you can’t \"read\" qubits** in the same way you read classical bits.\n",
        "\n",
        "When you measure a qubit:\n",
        "\n",
        "$$\n",
        "|\\psi\\rangle = \\alpha|0\\rangle + \\beta|1\\rangle,\n",
        "$$\n",
        "\n",
        "the result will only ever be `0` or `1`—which corresponds to a single bit.\n",
        "\n",
        "**Let’s emphasize this:**\n",
        "\n",
        "**The result of measuring $n$ qubits of information is $n$ bits of information.**\n",
        "\n",
        "But how do you know which bit you’re going to get? Well, you don’t—at least not exactly. But it’s not completely random:\n",
        "\n",
        "When you measure a qubit in the state $|\\psi\\rangle = \\alpha|0\\rangle + \\beta|1\\rangle$, you get `0` with probability $|\\alpha|^2$ and `1` with probability $|\\beta|^2$.\n",
        "\n",
        "This is why:\n",
        "\n",
        "$$\n",
        "|\\alpha|^2 + |\\beta|^2 = 1.\n",
        "$$\n",
        "\n",
        "Probabilities must add up to `1`! 🎲"
      ],
      "metadata": {
        "id": "01EO-6jQSFFt"
      }
    },
    {
      "cell_type": "markdown",
      "source": [
        "## 🗣️ **QASM: The Language of Quokka**\n",
        "\n",
        "What language does the Quokka speak? 🐹 It speaks **QASM**!\n",
        "\n",
        "We’ll be writing our quantum programs using **QASM (Quantum Assembly Language)**, the standard language for describing quantum circuits. Just like any programming language, QASM lets you tell Quokka exactly what quantum operations you want it to perform.\n",
        "\n",
        "- **Documentation**: For all the technical details, you can dive into the [QASM documentation](https://github.com/openqasm/openqasm/tree/OpenQASM2.x).\n",
        "  \n",
        "- **Quick Tip**: If you’re ever unsure about your QASM code, you can paste your script into a tool like [Quantum Circuit](https://quantum-circuit.com/) to visualize the circuit you’ve created. 🛠️\n",
        "\n",
        "QASM is powerful, but it’s also approachable. As you go through examples and build your quantum game, you’ll get the hang of it in no time. Ready to start coding your quantum game? Let’s do this! 🚀"
      ],
      "metadata": {
        "id": "v1EVxCRw610w"
      }
    },
    {
      "cell_type": "code",
      "source": [
        "# QASM is text based, so we'll use strings here in Python\n",
        "\n",
        "# Every QASM files starts the same\n",
        "\n",
        "program = \"\"\"\n",
        "OPENQASM 2.0;\n",
        "\"\"\"\n",
        "\n",
        "# Next, we specify the number of qubits using the command \"qreg q[  ];\"\n",
        "\n",
        "program += \"\"\"\n",
        "qreg q[1];\n",
        "\"\"\"\n",
        "\n",
        "# Finally, the initialization is complete by specifying the classical\n",
        "# registers where the results of measurement are stored\n",
        "# this is done using \"creg c[  ];\"\n",
        "\n",
        "program += \"\"\"\n",
        "creg c[1];\n",
        "\"\"\""
      ],
      "metadata": {
        "id": "c9DKjvsC3Mzk"
      },
      "execution_count": null,
      "outputs": []
    },
    {
      "cell_type": "markdown",
      "source": [
        "Now the variable `program` stores a three-line quantum program in the QASM language.\n",
        "\n",
        "### 🎯 **Step 2: Measuring the Qubit**\n",
        "\n",
        "Recall that qubits are always initialized in the $|0\\rangle$ state. This state corresponds to $|\\psi\\rangle = \\alpha|0\\rangle + \\beta|1\\rangle$ with $\\alpha = 1$ and $\\beta = 0$. Since $\\alpha = 1$, the chance we will get the result `0` when we execute this program is also `1`.\n",
        "\n",
        "Let’s check by adding a measurement to our program:"
      ],
      "metadata": {
        "id": "jDb6HukW7-8n"
      }
    },
    {
      "cell_type": "code",
      "source": [
        "# To read a qubit, we use \"measure q[ ] -> c[ ]\"\n",
        "# This QASM command says measure a qubit and store the bit value\n",
        "# in a classical register\n",
        "\n",
        "program += \"\"\"\n",
        "measure q[0] -> c[0];\n",
        "\"\"\"\n",
        "\n",
        "send_to_the_quokka(program)"
      ],
      "metadata": {
        "id": "5coYBTL98sd1",
        "colab": {
          "base_uri": "https://localhost:8080/",
          "height": 35
        },
        "outputId": "889882e8-0c7d-4ece-b00a-e41cf030fa71"
      },
      "execution_count": null,
      "outputs": [
        {
          "output_type": "execute_result",
          "data": {
            "text/plain": [
              "'0'"
            ],
            "application/vnd.google.colaboratory.intrinsic+json": {
              "type": "string"
            }
          },
          "metadata": {},
          "execution_count": 6
        }
      ]
    },
    {
      "cell_type": "markdown",
      "source": [
        "Phew! As expected, you’ll always get `0` because the qubit starts in the $|0\\rangle$ state.\n",
        "\n",
        "### 🛠️ **Step 3: Manipulating the Qubit with Quantum Gates**\n",
        "\n",
        "Now, let’s do something more interesting. We’ll use a quantum gate to change the state from $|0\\rangle$ to $|1\\rangle$. The quantum \"gate\" that does this is called `x` or **NOT**, just like in classical logic."
      ],
      "metadata": {
        "id": "hsfw9UDiPlmp"
      }
    },
    {
      "cell_type": "code",
      "source": [
        "# Set up our program as before\n",
        "\n",
        "program = \"\"\"\n",
        "OPENQASM 2.0;\n",
        "qreg q[1];\n",
        "creg c[1];\n",
        "\"\"\"\n",
        "\n",
        "# To apply a quantum instruction, or \"gate\", use the pattern \"gate q[ ];\"\n",
        "# We want to apply NOT, which is \"x\" in the QASM language\n",
        "\n",
        "program += \"\"\"\n",
        "x q[0];\n",
        "\"\"\"\n",
        "\n",
        "# Finally, read the qubit and execute the program\n",
        "\n",
        "program += \"\"\"\n",
        "measure q[0] -> c[0];\n",
        "\"\"\"\n",
        "\n",
        "send_to_the_quokka(program)\n"
      ],
      "metadata": {
        "colab": {
          "base_uri": "https://localhost:8080/",
          "height": 35
        },
        "id": "X0eOZKZygjq7",
        "outputId": "7265abe9-e260-4b68-9a0b-57201ec2ff73"
      },
      "execution_count": null,
      "outputs": [
        {
          "output_type": "execute_result",
          "data": {
            "text/plain": [
              "'1'"
            ],
            "application/vnd.google.colaboratory.intrinsic+json": {
              "type": "string"
            }
          },
          "metadata": {},
          "execution_count": 7
        }
      ]
    },
    {
      "cell_type": "markdown",
      "source": [
        "As expected, this flips the qubit from $|0\\rangle$ to $|1\\rangle$.\n",
        "\n",
        "### 🪙 **Step 4: Creating a Quantum Coin**\n",
        "\n",
        "Now, let’s make things quantum! We’ll create a **quantum coin**—a program that returns either `0` or `1` with equal probability.\n",
        "\n",
        "To do this, we need the qubit to be in a superposition state where $\\alpha = \\beta = \\frac{1}{\\sqrt{2}}$. This state is represented as:\n",
        "\n",
        "$$\n",
        "|+\\rangle = \\frac{1}{\\sqrt{2}}|0\\rangle + \\frac{1}{\\sqrt{2}}|1\\rangle.\n",
        "$$\n",
        "\n",
        "To achieve this, we use a **Hadamard gate**, represented by `h` in QASM.\n"
      ],
      "metadata": {
        "id": "FSv-TDXGdaDk"
      }
    },
    {
      "cell_type": "code",
      "source": [
        "# Set up our program as before\n",
        "\n",
        "program = \"\"\"\n",
        "OPENQASM 2.0;\n",
        "qreg q[1];\n",
        "creg c[1];\n",
        "\"\"\"\n",
        "\n",
        "# We want to apply hadamard, which is \"h\" in the QASM language\n",
        "\n",
        "program += \"\"\"\n",
        "h q[0];\n",
        "\"\"\"\n",
        "\n",
        "# Finally, we read the qubitm which completes the program\n",
        "\n",
        "program += \"\"\"\n",
        "measure q[0] -> c[0];\n",
        "\"\"\""
      ],
      "metadata": {
        "id": "7A813ULA0ALf"
      },
      "execution_count": null,
      "outputs": []
    },
    {
      "cell_type": "markdown",
      "source": [
        "### 🎲 **Step 5: Running Multiple Trials**\n",
        "\n",
        "Now, let’s see if our quantum coin is truly random by running the program multiple times:"
      ],
      "metadata": {
        "id": "AhHmWqAb0K9H"
      }
    },
    {
      "cell_type": "code",
      "source": [
        "n_trials = 10\n",
        "\n",
        "results = []\n",
        "for idx in range(n_trials):\n",
        "    results.append(send_to_the_quokka(program))\n",
        "\n",
        "print(results)"
      ],
      "metadata": {
        "colab": {
          "base_uri": "https://localhost:8080/"
        },
        "id": "9SVK_Ztb0J9H",
        "outputId": "072fb3fb-c7c9-4c37-f13b-0f4b2ae0c260"
      },
      "execution_count": null,
      "outputs": [
        {
          "output_type": "stream",
          "name": "stdout",
          "text": [
            "['1', '1', '1', '1', '1', '0', '0', '1', '0', '1']\n"
          ]
        }
      ]
    },
    {
      "cell_type": "markdown",
      "source": [
        "So random! 🎉 As you can see, the results will vary between `0` and `1` in a seemingly random fashion, thanks to the superposition state we created."
      ],
      "metadata": {
        "id": "AtqkJn5X2T-N"
      }
    },
    {
      "cell_type": "markdown",
      "source": [
        "### 🔍 **Mathematical Interlude: Understanding Quantum Gates**\n",
        "\n",
        "Behind the scenes of quantum computing lies the powerful machinery of **linear algebra**. Quantum gates—like their classical counterparts—transform the state of qubits, but they do so in a much richer way, thanks to the underlying mathematics.\n",
        "\n",
        "### 🔄 **The $X$ Gate (NOT Gate)**\n",
        "\n",
        "Let’s start with the $X$ gate, which is the quantum equivalent of the classical NOT gate. It flips the state of a qubit:\n",
        "\n",
        "$$\n",
        "X:|0\\rangle \\to |1\\rangle,\\\\\n",
        "X:|1\\rangle \\to |0\\rangle.\n",
        "$$\n",
        "\n",
        "This gate is straightforward: if the qubit is in state $|0\\rangle$, the $X$ gate flips it to $|1\\rangle$, and vice versa.\n",
        "\n",
        "Now, consider what happens when the qubit is in a **superposition state**:\n",
        "\n",
        "$$\n",
        "|\\psi\\rangle = \\alpha |0\\rangle + \\beta |1\\rangle.\n",
        "$$\n",
        "\n",
        "When we apply the $X$ gate to this state, we simply swap the coefficients:\n",
        "\n",
        "$$\n",
        "X|\\psi\\rangle = \\alpha |1\\rangle + \\beta |0\\rangle.\n",
        "$$\n",
        "\n",
        "### ✨ **The $H$ Gate (Hadamard Gate)**\n",
        "\n",
        "Next, let’s examine the **Hadamard** gate, which is crucial for creating superposition. The $H$ gate acts as follows:\n",
        "\n",
        "$$\n",
        "H:|0\\rangle \\to \\frac{1}{\\sqrt{2}}(|0\\rangle+|1\\rangle),\\\\\n",
        "H:|1\\rangle \\to \\frac{1}{\\sqrt{2}}(|0\\rangle-|1\\rangle).\n",
        "$$\n",
        "\n",
        "The Hadamard gate takes a basis state $|0\\rangle$ or $|1\\rangle$ and transforms it into an equal superposition of $|0\\rangle$ and $|1\\rangle$ (with either a plus or minus sign).\n",
        "\n",
        "Now, let’s apply the $H$ gate to a general superposition state:\n",
        "\n",
        "$$\n",
        "|\\psi\\rangle = \\alpha |0\\rangle + \\beta |1\\rangle.\n",
        "$$\n",
        "\n",
        "Under the Hadamard transformation, this state becomes:\n",
        "\n",
        "$$\n",
        "H|\\psi\\rangle = \\frac{\\alpha}{\\sqrt{2}}(|0\\rangle+|1\\rangle) + \\frac{\\beta}{\\sqrt{2}}(|0\\rangle-|1\\rangle).\n",
        "$$\n",
        "\n",
        "This simplifies to:\n",
        "\n",
        "$$\n",
        "H|\\psi\\rangle = \\frac{\\alpha+\\beta}{\\sqrt{2}}|0\\rangle + \\frac{\\alpha-\\beta}{\\sqrt{2}}|1\\rangle.\n",
        "$$\n",
        "\n",
        "This result shows how the Hadamard gate mixes the coefficients of $|0\\rangle$ and $|1\\rangle$, creating new quantum states that are pivotal in many quantum algorithms.\n",
        "\n",
        "### 🌀 **Introducing Rotation Gates**\n",
        "\n",
        "Now, let’s explore a more flexible class of gates—**rotation gates**. These gates allow you to rotate the qubit state around different axes on the Bloch sphere. In QASM, these are represented as `rx`, `ry`, and `rz`.\n",
        "\n",
        "For example, the **$R_y(\\theta)$** rotation gate rotates the qubit around the Y-axis by an angle $\\theta$. Mathematically, it’s expressed as:\n",
        "\n",
        "$$\n",
        "R_y(\\theta):|0\\rangle \\to \\cos(\\theta/2)|0\\rangle - \\sin(\\theta/2)|1\\rangle,\\\\\n",
        "R_y(\\theta):|1\\rangle \\to \\sin(\\theta/2)|0\\rangle + \\cos(\\theta/2)|1\\rangle.\n",
        "$$\n",
        "\n",
        "### 💡 **How It Works**\n",
        "\n",
        "The $R_y(\\theta)$ gate provides a continuous range of states between $|0\\rangle$ and $|1\\rangle$, depending on the angle $\\theta$. This gate is incredibly powerful because it gives you precise control over the qubit’s state, allowing for fine-tuned quantum operations.\n",
        "\n",
        "For more detailed information, you can check out standard references like [this one](https://en.wikipedia.org/wiki/List_of_quantum_logic_gates#Rotation_operator_gates), which cover the full range of quantum gates.\n",
        "\n",
        "With this understanding of quantum gates, you’re ready to tackle more complex quantum programs and see how these gates come together to create powerful quantum algorithms. Let’s put this knowledge into action! 🚀"
      ],
      "metadata": {
        "id": "x7FgEt-MOoW1"
      }
    },
    {
      "cell_type": "code",
      "source": [
        "# Set up our program as before\n",
        "\n",
        "program = \"\"\"\n",
        "OPENQASM 2.0;\n",
        "qreg q[1];\n",
        "creg c[1];\n",
        "\"\"\"\n",
        "\n",
        "# We want to apply \"ry,\" but watch this!\n",
        "\n",
        "program += \"\"\"\n",
        "h q[0];\n",
        "ry(pi/2) q[0];\n",
        "\"\"\"\n",
        "\n",
        "# Finally, we read the qubitm which completes the program\n",
        "\n",
        "program += \"\"\"\n",
        "measure q[0] -> c[0];\n",
        "\"\"\"\n",
        "\n",
        "# run and see what happens\n",
        "n_trials = 10\n",
        "\n",
        "results = []\n",
        "for idx in range(n_trials):\n",
        "    results.append(send_to_the_quokka(program))\n",
        "\n",
        "print(results)"
      ],
      "metadata": {
        "colab": {
          "base_uri": "https://localhost:8080/"
        },
        "id": "m2tkEBRIcl0n",
        "outputId": "cf916405-83df-4879-e899-7328fb7ee471"
      },
      "execution_count": null,
      "outputs": [
        {
          "output_type": "stream",
          "name": "stdout",
          "text": [
            "['0', '0', '0', '0', '0', '0', '0', '0', '0', '0']\n"
          ]
        }
      ]
    },
    {
      "cell_type": "markdown",
      "source": [
        "Hmmm... look at that 👀. It seems like $\\theta = \\pi$ makes ```ry``` act like ```x```.\n",
        "\n",
        "### 🔍 **Exploring the $R_y(\\pi)$ Gate: Almost Like an $X$ Gate**\n",
        "\n",
        "Let’s take a closer look at the $R_y(\\pi)$ gate and see how it behaves similarly to the $X$ gate. This is a great example of how different quantum gates can sometimes achieve similar results—though with a twist.\n",
        "\n",
        "### 🔄 **Proving the Similarity**\n",
        "\n",
        "We know that the $R_y(\\theta)$ gate rotates the qubit around the Y-axis by an angle $\\theta$. Let’s see what happens when $\\theta = \\pi$:\n",
        "\n",
        "$$\n",
        "R_y(\\pi):|0\\rangle \\to \\cos(\\pi/2)|0\\rangle - \\sin(\\pi/2)|1\\rangle,\\\\\n",
        "R_y(\\pi):|1\\rangle \\to \\sin(\\pi/2)|0\\rangle + \\cos(\\pi/2)|1\\rangle.\n",
        "$$\n",
        "\n",
        "Now, let’s consult a table of special angles. We find that:\n",
        "\n",
        "- $\\sin(\\pi/2) = 1$\n",
        "- $\\cos(\\pi/2) = 0$\n",
        "\n",
        "You can visualize these angles on the unit circle, as shown in the figure below:\n",
        "\n",
        "<div style=\"text-align: center;\">\n",
        "   <img src=\"https://upload.wikimedia.org/wikipedia/commons/e/ee/Unit_circle_sine_cosine.svg\" width=\"500\">\n",
        "</div>\n",
        "\n",
        "Substituting these values into our equations:\n",
        "\n",
        "$$\n",
        "R_y(\\pi):|0\\rangle \\to 0 \\cdot |0\\rangle - 1 \\cdot |1\\rangle = -|1\\rangle,\\\\\n",
        "R_y(\\pi):|1\\rangle \\to 1 \\cdot |0\\rangle + 0 \\cdot |1\\rangle = |0\\rangle.\n",
        "$$\n",
        "\n",
        "So, we have:\n",
        "\n",
        "$$\n",
        "R_y(\\pi):|0\\rangle \\to -|1\\rangle,\\\\\n",
        "R_y(\\pi):|1\\rangle \\to |0\\rangle.\n",
        "$$\n",
        "\n",
        "### ✨ **Conclusion**\n",
        "\n",
        "As you can see, $R_y(\\pi)$ effectively flips the qubit state, just like the $X$ gate. The only difference is that $R_y(\\pi)$ introduces a negative sign when flipping $|0\\rangle$ to $|1\\rangle$. So while it’s not exactly the same as $X$, it’s very close!\n",
        "\n",
        "### 🎮 **Test Your Skills**\n",
        "\n",
        "Now it’s your turn! Use the `ry` gate to create a quantum coin that produces bits at random. Here’s the challenge:\n"
      ],
      "metadata": {
        "id": "EUPw59g_qqB7"
      }
    },
    {
      "cell_type": "code",
      "source": [
        "# change the parameter in ry() so that the bits produced are random\n",
        "\n",
        "# note that you can use \"/\" for division\n",
        "\n",
        "program = \"\"\"\n",
        "OPENQASM 2.0;\n",
        "qreg q[1];\n",
        "creg c[1];\n",
        "ry(pi) q[0];\n",
        "measure q[0] -> c[0];\n",
        "\"\"\"\n",
        "\n",
        "# run and see what happens\n",
        "n_trials = 10\n",
        "\n",
        "results = []\n",
        "for idx in range(n_trials):\n",
        "    results.append(send_to_the_quokka(program))\n",
        "\n",
        "print(results)"
      ],
      "metadata": {
        "colab": {
          "base_uri": "https://localhost:8080/"
        },
        "id": "hlHtDxjIs-Wq",
        "outputId": "334a4534-4d91-4aeb-ee75-6f4192988cd8"
      },
      "execution_count": null,
      "outputs": [
        {
          "output_type": "stream",
          "name": "stdout",
          "text": [
            "['1', '1', '1', '1', '1', '1', '1', '1', '1', '1']\n"
          ]
        }
      ]
    },
    {
      "cell_type": "markdown",
      "source": [
        "## 🔗 **Entanglement: Unlocking the Power of the $CX$ Gate**\n",
        "\n",
        "Welcome to the fascinating world of **entanglement**—a cornerstone of quantum computing where qubits become intertwined in such a way that the state of one qubit directly affects the state of another, no matter how far apart they are. The key to creating this quantum link is the **$CX$ gate**, also known as the **CNOT** (Controlled-NOT) gate.\n",
        "\n",
        "In QASM, this gate is represented by the command `cx`.\n",
        "\n",
        "### 🔄 **Understanding the $CX$ Gate**\n",
        "\n",
        "The $CX$ gate operates on two qubits, and depending on the state of the **control qubit** (the first qubit), it may or may not flip the **target qubit** (the second qubit). Here’s the mathematical representation of the $CX$ gate:\n",
        "\n",
        "$$\n",
        "CX:|00\\rangle \\to |00\\rangle,\\\\\n",
        "CX:|01\\rangle \\to |01\\rangle,\\\\\n",
        "CX:|10\\rangle \\to |11\\rangle,\\\\\n",
        "CX:|11\\rangle \\to |10\\rangle.\n",
        "$$\n",
        "\n",
        "In simpler terms:\n",
        "\n",
        "- If the control qubit is in the state $|0⟩$, nothing happens to the target qubit.\n",
        "- If the control qubit is in the state $|1⟩$, the target qubit flips from $|0⟩$ to $|1⟩$ or from $|1⟩$ to $|0⟩$.\n",
        "\n",
        "This is why it’s called a **controlled-X** gate: the state of the control qubit determines whether the target qubit undergoes the $X$ (NOT) operation.\n",
        "\n",
        "### 🛠️ **Let’s Build a QASM Program with $CX$**\n",
        "\n",
        "Now, let's see how we can use the $CX$ gate in a QASM program. The following example will show you how to create entanglement between two qubits.\n",
        "\n",
        "### 🧠 **What This Program Does**\n",
        "\n",
        "1. **Initialization**: The program starts by initializing two qubits (`qreg q[2];`) and two classical bits (`creg c[2];`) to store the measurement results.\n",
        "\n",
        "2. **Superposition**: The Hadamard gate (`h q[0];`) is applied to the first qubit, putting it into a superposition state where it’s equally likely to be measured as `0` or `1`.\n",
        "\n",
        "3. **Entanglement**: The $CX$ gate (`cx q[0], q[1];`) entangles qubit 0 and qubit 1. If qubit 0 is $|0\\rangle$, qubit 1 remains unchanged. If qubit 0 is $|1\\rangle$, qubit 1 flips.\n",
        "\n",
        "4. **Measurement**: Finally, both qubits are measured, and their states are stored in the classical bits.\n",
        "\n",
        "### 🎲 **Running the Program**\n",
        "\n",
        "When you run this program multiple times, you’ll notice that the results of measuring the two qubits are either `00` or `11`. This indicates that the qubits are perfectly correlated—if one is `0`, so is the other, and the same goes for `1`. This correlation is a hallmark of **entanglement**.\n",
        "\n"
      ],
      "metadata": {
        "id": "-R1P2_jGte94"
      }
    },
    {
      "cell_type": "code",
      "source": [
        "# we'll need 2 quantum and 2 classical registers this time\n",
        "\n",
        "program = \"\"\"\n",
        "OPENQASM 2.0;\n",
        "qreg q[2];\n",
        "creg c[2];\n",
        "\"\"\"\n",
        "\n",
        "# let's put the \"control\" qubit in superposition using \"h\"\n",
        "\n",
        "program += \"\"\"\n",
        "h q[0];\n",
        "\"\"\"\n",
        "\n",
        "# now we apply the \"cx\" gate using the pattern \"cx q[ control ], q[ target ]\"\n",
        "\n",
        "program += \"\"\"\n",
        "cx q[0], q[1];\n",
        "\"\"\"\n",
        "\n",
        "# finally, read the qubits and execute the program\n",
        "\n",
        "program += \"\"\"\n",
        "measure q[0] -> c[0];\n",
        "measure q[1] -> c[1];\n",
        "\"\"\"\n",
        "\n",
        "# run and see what happens\n",
        "n_trials = 10\n",
        "\n",
        "results = []\n",
        "for idx in range(n_trials):\n",
        "    results.append(send_to_the_quokka(program))\n",
        "\n",
        "print(results)"
      ],
      "metadata": {
        "id": "-NKrDh8d0J6B",
        "colab": {
          "base_uri": "https://localhost:8080/"
        },
        "outputId": "1fc3db6a-b40a-485f-a920-de4ce2ba3df3"
      },
      "execution_count": null,
      "outputs": [
        {
          "output_type": "stream",
          "name": "stdout",
          "text": [
            "['11', '00', '11', '11', '00', '00', '00', '11', '00', '11']\n"
          ]
        }
      ]
    },
    {
      "cell_type": "markdown",
      "source": [
        "\n",
        "🚀Oh, now that's interesting! It seems the bits are perfectly correlated but also random.\n",
        "\n",
        "**Let's do one last bit of math.** ✅\n",
        "\n",
        "We start with $|00\\rangle$ as always. Then, $H$ is applied to the first qubit. So we have,\n",
        "\n",
        "$$\n",
        "\\frac1{\\sqrt2}|00⟩+\\frac1{\\sqrt2}|10\\rangle.\n",
        "$$\n",
        "\n",
        "Now, the $CX$ gate acts on each term individually (that's the beauty of *linear* algebra):\n",
        "\n",
        "$$\n",
        "\\frac1{\\sqrt2}CX|00⟩+\\frac1{\\sqrt2}CX|10\\rangle.\n",
        "$$\n",
        "\n",
        "Consulting the table above for definition of $CX$ (or recalling that it flips the second bit label conditional on the first), we get the final two-qubit state:\n",
        "\n",
        "$$\n",
        "\\frac1{\\sqrt2}|00⟩+\\frac1{\\sqrt2}|11\\rangle.\n",
        "$$\n",
        "\n",
        "We can see that either each qubit will be read as $0$ or $1$, and these alternatives happen with equal probability. They are *correlated*. When quantum data is correlated, it is called **entanglement**.\n",
        "\n",
        "That's it. Now you know quantum computing! 🎉\n"
      ],
      "metadata": {
        "id": "CLlZE8MEwzRB"
      }
    },
    {
      "cell_type": "markdown",
      "source": [
        "## 🎮 **Real quantum games**\n",
        "\n",
        "In the quantum twist on Tic-Tac-Toe, the entire game state is a quantum program written in QASM, with each square on the board represented by a qubit. The objective is simple: execute the program, and if `0` is returned for `q[0]`, Player X claims that square. After execution, Quokka transforms your quantum program into a \"classical\" game state, where traditional win conditions can be checked.\n",
        "\n",
        "### 🎲 **Setting Up the Quantum Board**\n",
        "\n",
        "At the start, each square on the board is placed into an equal superposition state using the Hadamard gate (`h`). This ensures a level playing field, as every square is equally likely to be won by either player.\n",
        "\n",
        "### 🔄 **Quantum Moves for Each Player**\n",
        "\n",
        "- **Player X**: The goal is to collapse the superposition back to the $|0\\rangle$ state. This is achieved by applying another Hadamard gate (`h`).\n",
        "\n",
        "- **Player O**: The aim is to flip the superposition state to $|1⟩$. Player O accomplishes this by first applying a Hadamard gate (`h`) to bring the state back to $|0⟩$, and then flipping it to $|1⟩$ using the $X$ gate.\n",
        "\n",
        "### ✨ **Quantum Challenge: Customize with $R_y(\\theta)$**\n",
        "\n",
        "Ready for a challenge? Try replacing the X and O moves with a single `ry` gate that takes an angle $\\theta$. By tweaking $\\theta$, you can adjust the probabilities of each player winning a square, adding a new layer of quantum strategy to the game.\n",
        "\n",
        "### 🚀 **Game On!**\n",
        "\n",
        "Now it’s your turn to get creative. Build your own version of quantum Tic-Tac-Toe or invent an entirely new quantum game using the moves we’ve explored. Experiment with different quantum gates, develop unique strategies, and see how the quantum nature of the game transforms the traditional Tic-Tac-Toe experience. Who knows—you might just create the next big quantum game! 🎲✨\n",
        "\n",
        "### 🧠 **Customize, Experiment, and Innovate**\n",
        "\n",
        "- Try out different quantum gates and sequences.\n",
        "- Use `ry` gates with various $\\theta$ values to craft more complex moves.\n",
        "- Discover new strategies that leverage quantum principles to outsmart your opponent.\n",
        "\n",
        "The quantum realm offers limitless possibilities—let’s see what kind of game you can create! 🎮💡"
      ],
      "metadata": {
        "id": "2UfbIglJyy-o"
      }
    },
    {
      "cell_type": "code",
      "source": [],
      "metadata": {
        "id": "NLb8piLvwaYO"
      },
      "execution_count": null,
      "outputs": []
    }
  ]
}